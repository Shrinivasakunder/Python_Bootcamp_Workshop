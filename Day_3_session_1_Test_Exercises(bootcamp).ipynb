{
  "nbformat": 4,
  "nbformat_minor": 0,
  "metadata": {
    "colab": {
      "name": " Day 3 session 1 Test Exercises(bootcamp).ipynb",
      "provenance": [],
      "authorship_tag": "ABX9TyN0IsCwZyTcJTbpU5SXNatj",
      "include_colab_link": true
    },
    "kernelspec": {
      "name": "python3",
      "display_name": "Python 3"
    }
  },
  "cells": [
    {
      "cell_type": "markdown",
      "metadata": {
        "id": "view-in-github",
        "colab_type": "text"
      },
      "source": [
        "<a href=\"https://colab.research.google.com/github/Shrinivasakunder/Python_Bootcamp_Workshop/blob/master/Day_3_session_1_Test_Exercises(bootcamp).ipynb\" target=\"_parent\"><img src=\"https://colab.research.google.com/assets/colab-badge.svg\" alt=\"Open In Colab\"/></a>"
      ]
    },
    {
      "cell_type": "code",
      "metadata": {
        "id": "iO4AaOGN4etn",
        "colab_type": "code",
        "colab": {
          "base_uri": "https://localhost:8080/",
          "height": 86
        },
        "outputId": "5fadfa4c-1b97-4431-857d-3d154fe51a01"
      },
      "source": [
        "import math\n",
        "class Cyl:\n",
        "  def __init__(self, r, h):\n",
        "    self.r=r\n",
        "    self.h=h\n",
        "  def Vol(self):\n",
        "    return math.pi*self.r*self.r*self.h\n",
        "  def SA(self):\n",
        "    return 2*math.pi*self.r*self.h\n",
        "r=int(input('Enter the radius: '))\n",
        "h=int(input('Enter the height: '))\n",
        "ob=Cyl(r,h)\n",
        "print(f'The Surface Area is: {round(ob.SA())}\\nThe Volume is:{round(ob.Vol())}')"
      ],
      "execution_count": 14,
      "outputs": [
        {
          "output_type": "stream",
          "text": [
            "Enter the radius: 5\n",
            "Enter the height: 6\n",
            "The Surface Area is: 188\n",
            "The Volume is:471\n"
          ],
          "name": "stdout"
        }
      ]
    },
    {
      "cell_type": "code",
      "metadata": {
        "id": "sOsABwXi68X2",
        "colab_type": "code",
        "colab": {
          "base_uri": "https://localhost:8080/",
          "height": 121
        },
        "outputId": "95450864-855c-4f09-be7d-bdc50d7a2e14"
      },
      "source": [
        "class Student:\n",
        "  def __init(self):\n",
        "    self.rl=None\n",
        "    self.n=None\n",
        "    self.ma1=None\n",
        "    self.ma2=None\n",
        "  def setdata(self,rollno,name,m1,m2):\n",
        "    self.rl=rollno\n",
        "    self.n=name\n",
        "    self.ma1=m1\n",
        "    self.ma2=m2\n",
        "  def dispdata(self):\n",
        "    print(f'Name: {self.n}   Roll no: {self.rl}    Mark-1: {self.ma1}    Mark-2: {self.ma2}')\n",
        "ob1=Student()\n",
        "ob1.setdata(92,'Shri',96,94)\n",
        "ob2=Student()\n",
        "ob2.setdata(93,'Suhas',98,95)\n",
        "ob3=Student()\n",
        "ob3.setdata(94,'Sai',93,92)\n",
        "print('object-1')\n",
        "ob1.dispdata()\n",
        "print('object-2')\n",
        "ob2.dispdata()\n",
        "print('object-3')\n",
        "ob3.dispdata()"
      ],
      "execution_count": 12,
      "outputs": [
        {
          "output_type": "stream",
          "text": [
            "object-1\n",
            "Name: Shri   Roll no: 92    Mark-1: 96    Mark-2: 94\n",
            "object-2\n",
            "Name: Suhas   Roll no: 93    Mark-1: 98    Mark-2: 95\n",
            "object-3\n",
            "Name: Sai   Roll no: 94    Mark-1: 93    Mark-2: 92\n"
          ],
          "name": "stdout"
        }
      ]
    },
    {
      "cell_type": "code",
      "metadata": {
        "id": "UsaVGA_P93i2",
        "colab_type": "code",
        "colab": {
          "base_uri": "https://localhost:8080/",
          "height": 278
        },
        "outputId": "a96b31ec-b489-4489-a1a7-41d8bba766da"
      },
      "source": [
        "class Person:\n",
        "  def __init__(self, name, idnumber):\n",
        "    self.name=name\n",
        "    self.idnumber=idnumber\n",
        "  def display(self):\n",
        "    print(f'Name: {self.name}\\nIDNumber: {self.idnumber}')\n",
        "\n",
        "class Employee(Person):\n",
        "  def __init__(self,name, idnumber, salary, post):\n",
        "    self.salary=salary\n",
        "    self.post=post\n",
        "    super(Employee,self).__init__(name, idnumber)\n",
        "  def display(self):\n",
        "    super(Employee,self).display()\n",
        "    print(f'Salary: {self.salary}\\nPost: {self.post}')\n",
        "\n",
        "x=Person('Shri',346)\n",
        "print('Parent Class')\n",
        "x.display()\n",
        "a=Employee('Suhas',984,40000,'Teacher')\n",
        "print('\\nChild Class')\n",
        "a.display()\n",
        "b=Employee('Sai',254,50000,'Mannager')\n",
        "print('\\nChild Class')\n",
        "b.display()"
      ],
      "execution_count": 21,
      "outputs": [
        {
          "output_type": "stream",
          "text": [
            "Parent Class\n",
            "Name: Shri\n",
            "IDNumber: 346\n",
            "\n",
            "Child Class\n",
            "Name: Suhas\n",
            "IDNumber: 984\n",
            "Salary: 40000\n",
            "Post: Teacher\n",
            "\n",
            "Child Class\n",
            "Name: Sai\n",
            "IDNumber: 254\n",
            "Salary: 50000\n",
            "Post: Mannager\n"
          ],
          "name": "stdout"
        }
      ]
    },
    {
      "cell_type": "code",
      "metadata": {
        "id": "moCcum-QDHxw",
        "colab_type": "code",
        "colab": {
          "base_uri": "https://localhost:8080/",
          "height": 358
        },
        "outputId": "7003614e-e231-4552-be9a-a4d490ca4e9d"
      },
      "source": [
        "class student:\n",
        "  def __init__(self):\n",
        "    self.rollno=None\n",
        "    self.name=None\n",
        "  def getStudent(self, rollno, name):\n",
        "    self.rollno=rollno\n",
        "    self.name=name\n",
        "  def display(self):\n",
        "    print(f'Name: {self.name}\\nRollno: {self.rollno}')\n",
        "\n",
        "class test(student):\n",
        "  def __init__(self):\n",
        "    self.math=None\n",
        "    self.science=None\n",
        "  def getMarks(self,rollno,name,math,science):\n",
        "    self.math=math\n",
        "    self.science=science\n",
        "    super(student,self).getStudent(rollno, name)\n",
        "  def display(self):\n",
        "    print(f'Math: {self.math}\\nScience: {self.science}')\n",
        "    super(student,self).display()\n",
        "\n",
        "class marks(test):\n",
        "  def dispaly(self):\n",
        "    super(test,self).display()\n",
        "\n",
        "\n",
        "b=test()\n",
        "b.getMarks(95,'Suhas',88,90)\n",
        "c=marks()\n",
        "c.display()"
      ],
      "execution_count": 28,
      "outputs": [
        {
          "output_type": "error",
          "ename": "AttributeError",
          "evalue": "ignored",
          "traceback": [
            "\u001b[0;31m---------------------------------------------------------------------------\u001b[0m",
            "\u001b[0;31mAttributeError\u001b[0m                            Traceback (most recent call last)",
            "\u001b[0;32m<ipython-input-28-fe26ef4149ee>\u001b[0m in \u001b[0;36m<module>\u001b[0;34m()\u001b[0m\n\u001b[1;32m     27\u001b[0m \u001b[0;34m\u001b[0m\u001b[0m\n\u001b[1;32m     28\u001b[0m \u001b[0mb\u001b[0m\u001b[0;34m=\u001b[0m\u001b[0mtest\u001b[0m\u001b[0;34m(\u001b[0m\u001b[0;34m)\u001b[0m\u001b[0;34m\u001b[0m\u001b[0;34m\u001b[0m\u001b[0m\n\u001b[0;32m---> 29\u001b[0;31m \u001b[0mb\u001b[0m\u001b[0;34m.\u001b[0m\u001b[0mgetMarks\u001b[0m\u001b[0;34m(\u001b[0m\u001b[0;36m95\u001b[0m\u001b[0;34m,\u001b[0m\u001b[0;34m'Suhas'\u001b[0m\u001b[0;34m,\u001b[0m\u001b[0;36m88\u001b[0m\u001b[0;34m,\u001b[0m\u001b[0;36m90\u001b[0m\u001b[0;34m)\u001b[0m\u001b[0;34m\u001b[0m\u001b[0;34m\u001b[0m\u001b[0m\n\u001b[0m\u001b[1;32m     30\u001b[0m \u001b[0mc\u001b[0m\u001b[0;34m=\u001b[0m\u001b[0mmarks\u001b[0m\u001b[0;34m(\u001b[0m\u001b[0;34m)\u001b[0m\u001b[0;34m\u001b[0m\u001b[0;34m\u001b[0m\u001b[0m\n\u001b[1;32m     31\u001b[0m \u001b[0mc\u001b[0m\u001b[0;34m.\u001b[0m\u001b[0mdisplay\u001b[0m\u001b[0;34m(\u001b[0m\u001b[0;34m)\u001b[0m\u001b[0;34m\u001b[0m\u001b[0;34m\u001b[0m\u001b[0m\n",
            "\u001b[0;32m<ipython-input-28-fe26ef4149ee>\u001b[0m in \u001b[0;36mgetMarks\u001b[0;34m(self, rollno, name, math, science)\u001b[0m\n\u001b[1;32m     16\u001b[0m     \u001b[0mself\u001b[0m\u001b[0;34m.\u001b[0m\u001b[0mmath\u001b[0m\u001b[0;34m=\u001b[0m\u001b[0mmath\u001b[0m\u001b[0;34m\u001b[0m\u001b[0;34m\u001b[0m\u001b[0m\n\u001b[1;32m     17\u001b[0m     \u001b[0mself\u001b[0m\u001b[0;34m.\u001b[0m\u001b[0mscience\u001b[0m\u001b[0;34m=\u001b[0m\u001b[0mscience\u001b[0m\u001b[0;34m\u001b[0m\u001b[0;34m\u001b[0m\u001b[0m\n\u001b[0;32m---> 18\u001b[0;31m     \u001b[0msuper\u001b[0m\u001b[0;34m(\u001b[0m\u001b[0mstudent\u001b[0m\u001b[0;34m,\u001b[0m\u001b[0mself\u001b[0m\u001b[0;34m)\u001b[0m\u001b[0;34m.\u001b[0m\u001b[0mgetStudent\u001b[0m\u001b[0;34m(\u001b[0m\u001b[0mrollno\u001b[0m\u001b[0;34m,\u001b[0m \u001b[0mname\u001b[0m\u001b[0;34m)\u001b[0m\u001b[0;34m\u001b[0m\u001b[0;34m\u001b[0m\u001b[0m\n\u001b[0m\u001b[1;32m     19\u001b[0m   \u001b[0;32mdef\u001b[0m \u001b[0mdisplay\u001b[0m\u001b[0;34m(\u001b[0m\u001b[0mself\u001b[0m\u001b[0;34m)\u001b[0m\u001b[0;34m:\u001b[0m\u001b[0;34m\u001b[0m\u001b[0;34m\u001b[0m\u001b[0m\n\u001b[1;32m     20\u001b[0m     \u001b[0mprint\u001b[0m\u001b[0;34m(\u001b[0m\u001b[0;34mf'Math: {self.math}\\nScience: {self.science}'\u001b[0m\u001b[0;34m)\u001b[0m\u001b[0;34m\u001b[0m\u001b[0;34m\u001b[0m\u001b[0m\n",
            "\u001b[0;31mAttributeError\u001b[0m: 'super' object has no attribute 'getStudent'"
          ]
        }
      ]
    }
  ]
}