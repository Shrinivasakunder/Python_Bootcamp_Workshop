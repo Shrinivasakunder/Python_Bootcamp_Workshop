{
  "nbformat": 4,
  "nbformat_minor": 0,
  "metadata": {
    "colab": {
      "name": " Day 3 session 1 Test Exercises(bootcamp).ipynb",
      "provenance": [],
      "authorship_tag": "ABX9TyOvszBhMO0YfOVS7qHksU7m",
      "include_colab_link": true
    },
    "kernelspec": {
      "name": "python3",
      "display_name": "Python 3"
    }
  },
  "cells": [
    {
      "cell_type": "markdown",
      "metadata": {
        "id": "view-in-github",
        "colab_type": "text"
      },
      "source": [
        "<a href=\"https://colab.research.google.com/github/Shrinivasakunder/Python_Bootcamp_Workshop/blob/master/Day_3_session_1_Test_Exercises(bootcamp).ipynb\" target=\"_parent\"><img src=\"https://colab.research.google.com/assets/colab-badge.svg\" alt=\"Open In Colab\"/></a>"
      ]
    },
    {
      "cell_type": "code",
      "metadata": {
        "id": "iO4AaOGN4etn",
        "colab_type": "code",
        "colab": {
          "base_uri": "https://localhost:8080/",
          "height": 86
        },
        "outputId": "5fadfa4c-1b97-4431-857d-3d154fe51a01"
      },
      "source": [
        "import math\n",
        "class Cyl:\n",
        "  def __init__(self, r, h):\n",
        "    self.r=r\n",
        "    self.h=h\n",
        "  def Vol(self):\n",
        "    return math.pi*self.r*self.r*self.h\n",
        "  def SA(self):\n",
        "    return 2*math.pi*self.r*self.h\n",
        "r=int(input('Enter the radius: '))\n",
        "h=int(input('Enter the height: '))\n",
        "ob=Cyl(r,h)\n",
        "print(f'The Surface Area is: {round(ob.SA())}\\nThe Volume is:{round(ob.Vol())}')"
      ],
      "execution_count": null,
      "outputs": [
        {
          "output_type": "stream",
          "text": [
            "Enter the radius: 5\n",
            "Enter the height: 6\n",
            "The Surface Area is: 188\n",
            "The Volume is:471\n"
          ],
          "name": "stdout"
        }
      ]
    },
    {
      "cell_type": "code",
      "metadata": {
        "id": "sOsABwXi68X2",
        "colab_type": "code",
        "colab": {
          "base_uri": "https://localhost:8080/",
          "height": 121
        },
        "outputId": "95450864-855c-4f09-be7d-bdc50d7a2e14"
      },
      "source": [
        "class Student:\n",
        "  def __init(self):\n",
        "    self.rl=None\n",
        "    self.n=None\n",
        "    self.ma1=None\n",
        "    self.ma2=None\n",
        "  def setdata(self,rollno,name,m1,m2):\n",
        "    self.rl=rollno\n",
        "    self.n=name\n",
        "    self.ma1=m1\n",
        "    self.ma2=m2\n",
        "  def dispdata(self):\n",
        "    print(f'Name: {self.n}   Roll no: {self.rl}    Mark-1: {self.ma1}    Mark-2: {self.ma2}')\n",
        "ob1=Student()\n",
        "ob1.setdata(92,'Shri',96,94)\n",
        "ob2=Student()\n",
        "ob2.setdata(93,'Suhas',98,95)\n",
        "ob3=Student()\n",
        "ob3.setdata(94,'Sai',93,92)\n",
        "print('object-1')\n",
        "ob1.dispdata()\n",
        "print('object-2')\n",
        "ob2.dispdata()\n",
        "print('object-3')\n",
        "ob3.dispdata()"
      ],
      "execution_count": null,
      "outputs": [
        {
          "output_type": "stream",
          "text": [
            "object-1\n",
            "Name: Shri   Roll no: 92    Mark-1: 96    Mark-2: 94\n",
            "object-2\n",
            "Name: Suhas   Roll no: 93    Mark-1: 98    Mark-2: 95\n",
            "object-3\n",
            "Name: Sai   Roll no: 94    Mark-1: 93    Mark-2: 92\n"
          ],
          "name": "stdout"
        }
      ]
    },
    {
      "cell_type": "code",
      "metadata": {
        "id": "UsaVGA_P93i2",
        "colab_type": "code",
        "colab": {
          "base_uri": "https://localhost:8080/",
          "height": 278
        },
        "outputId": "a96b31ec-b489-4489-a1a7-41d8bba766da"
      },
      "source": [
        "class Person:\n",
        "  def __init__(self, name, idnumber):\n",
        "    self.name=name\n",
        "    self.idnumber=idnumber\n",
        "  def display(self):\n",
        "    print(f'Name: {self.name}\\nIDNumber: {self.idnumber}')\n",
        "\n",
        "class Employee(Person):\n",
        "  def __init__(self,name, idnumber, salary, post):\n",
        "    self.salary=salary\n",
        "    self.post=post\n",
        "    super(Employee,self).__init__(name, idnumber)\n",
        "  def display(self):\n",
        "    super(Employee,self).display()\n",
        "    print(f'Salary: {self.salary}\\nPost: {self.post}')\n",
        "\n",
        "x=Person('Shri',346)\n",
        "print('Parent Class')\n",
        "x.display()\n",
        "a=Employee('Suhas',984,40000,'Teacher')\n",
        "print('\\nChild Class')\n",
        "a.display()\n",
        "b=Employee('Sai',254,50000,'Mannager')\n",
        "print('\\nChild Class')\n",
        "b.display()"
      ],
      "execution_count": null,
      "outputs": [
        {
          "output_type": "stream",
          "text": [
            "Parent Class\n",
            "Name: Shri\n",
            "IDNumber: 346\n",
            "\n",
            "Child Class\n",
            "Name: Suhas\n",
            "IDNumber: 984\n",
            "Salary: 40000\n",
            "Post: Teacher\n",
            "\n",
            "Child Class\n",
            "Name: Sai\n",
            "IDNumber: 254\n",
            "Salary: 50000\n",
            "Post: Mannager\n"
          ],
          "name": "stdout"
        }
      ]
    },
    {
      "cell_type": "code",
      "metadata": {
        "id": "moCcum-QDHxw",
        "colab_type": "code",
        "colab": {
          "base_uri": "https://localhost:8080/",
          "height": 173
        },
        "outputId": "0224ae38-f524-4c7f-b261-96fb7b066999"
      },
      "source": [
        "class student:\n",
        "  def getStudent(self, rollno, name):\n",
        "    self.rollno=rollno\n",
        "    self.name=name\n",
        "\n",
        "class test(student):\n",
        "  def getMarks(self,math,science):\n",
        "    self.math=math\n",
        "    self.science=science\n",
        " \n",
        "class marks(test):\n",
        "  def display(self):\n",
        "    print(f'Name: {self.name}\\nRoolno.: {self.rollno}\\nMaths: {self.math}\\nScience: {self.science}\\nAverage: {(self.math+self.science)/2}')\n",
        "\n",
        "r=int(input('Enter the rollno.: '))\n",
        "name=input('Enter the name: ')\n",
        "math=int(input('Enter mark of math: '))\n",
        "science=int(input('Enter mark of science: '))\n",
        "c=marks()\n",
        "c.getStudent(r,name)\n",
        "c.getMarks(math,science)\n",
        "c.display()"
      ],
      "execution_count": 51,
      "outputs": [
        {
          "output_type": "stream",
          "text": [
            "Enter the rollno.: 95\n",
            "Enter the name: Shri\n",
            "Enter mark of math: 88\n",
            "Enter mark of science: 92\n",
            "Name: Shri\n",
            "Roolno.: 95\n",
            "Maths: 88\n",
            "Science: 92\n",
            "Average: 90.0\n"
          ],
          "name": "stdout"
        }
      ]
    },
    {
      "cell_type": "code",
      "metadata": {
        "id": "WEmBCa67YUeW",
        "colab_type": "code",
        "colab": {
          "base_uri": "https://localhost:8080/",
          "height": 156
        },
        "outputId": "8b66e72e-4521-40cf-99d8-fdc446951f23"
      },
      "source": [
        "class India():\n",
        "  def __init__(self,capital,language,currency):\n",
        "    self.capital=capital\n",
        "    self.language=language\n",
        "    self.currency=currency\n",
        "  def capitale(self):\n",
        "    print('India')\n",
        "    print(\"Capital: \",self.capital)\n",
        "  def languag(self):\n",
        "    print(\"Language: \",self.language)\n",
        "  def currenc(self):\n",
        "    print(\"Currency: \",self.currency)\n",
        "\n",
        "class USA():\n",
        "  def __init__(self,capital,language,currency):\n",
        "    self.capital=capital\n",
        "    self.language=language\n",
        "    self.currency=currency\n",
        "  def capitale(self):\n",
        "    print('USA')\n",
        "    print(\"Capital: \",self.capital)\n",
        "  def languag(self):\n",
        "    print(\"Language: \",self.language)\n",
        "  def currenc(self):\n",
        "    print(\"Currency: \",self.currency)\n",
        "\n",
        "obj1=India('New Delhi','Hindi and English','Rupee')\n",
        "obj2=USA('Washington DC','English','Dollar')\n",
        "l=[obj1,obj2]\n",
        "for i in l:\n",
        "  i.capitale()\n",
        "  i.languag()\n",
        "  i.currenc()\n"
      ],
      "execution_count": 48,
      "outputs": [
        {
          "output_type": "stream",
          "text": [
            "India\n",
            "Capital:  New Delhi\n",
            "Language:  Hindi and English\n",
            "Currency:  Rupee\n",
            "USA\n",
            "Capital:  Washington DC\n",
            "Language:  English\n",
            "Currency:  Dollar\n"
          ],
          "name": "stdout"
        }
      ]
    }
  ]
}