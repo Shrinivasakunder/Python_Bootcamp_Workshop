{
  "nbformat": 4,
  "nbformat_minor": 0,
  "metadata": {
    "colab": {
      "name": " Day 2 session 1 Test Exercises(bootcamp).ipynb",
      "provenance": [],
      "collapsed_sections": [],
      "authorship_tag": "ABX9TyPaaAYn4gCdIQU/rpD8JCZ4",
      "include_colab_link": true
    },
    "kernelspec": {
      "name": "python3",
      "display_name": "Python 3"
    },
    "accelerator": "GPU"
  },
  "cells": [
    {
      "cell_type": "markdown",
      "metadata": {
        "id": "view-in-github",
        "colab_type": "text"
      },
      "source": [
        "<a href=\"https://colab.research.google.com/github/Shrinivasakunder/Python_Bootcamp_Workshop/blob/master/Day_2_session_1_Test_Exercises(bootcamp).ipynb\" target=\"_parent\"><img src=\"https://colab.research.google.com/assets/colab-badge.svg\" alt=\"Open In Colab\"/></a>"
      ]
    },
    {
      "cell_type": "code",
      "metadata": {
        "id": "xTd5IQ46NbbG",
        "colab_type": "code",
        "colab": {
          "base_uri": "https://localhost:8080/",
          "height": 54
        },
        "outputId": "3a810eb6-30d8-40e4-f259-222600502b56"
      },
      "source": [
        "# print multiples of 3 upto 200 using a list \n",
        "a=[i for i in range(200) if i%3==0]\n",
        "print(a)"
      ],
      "execution_count": 1,
      "outputs": [
        {
          "output_type": "stream",
          "text": [
            "[0, 3, 6, 9, 12, 15, 18, 21, 24, 27, 30, 33, 36, 39, 42, 45, 48, 51, 54, 57, 60, 63, 66, 69, 72, 75, 78, 81, 84, 87, 90, 93, 96, 99, 102, 105, 108, 111, 114, 117, 120, 123, 126, 129, 132, 135, 138, 141, 144, 147, 150, 153, 156, 159, 162, 165, 168, 171, 174, 177, 180, 183, 186, 189, 192, 195, 198]\n"
          ],
          "name": "stdout"
        }
      ]
    },
    {
      "cell_type": "code",
      "metadata": {
        "id": "KVYXkbqQkrPo",
        "colab_type": "code",
        "colab": {
          "base_uri": "https://localhost:8080/",
          "height": 54
        },
        "outputId": "67a9f09a-fa3c-40b4-e3eb-810de3cd9c13"
      },
      "source": [
        "#print the nos only divisable by 5 and 7 between 1000 and 2000 using a list( both  inclusive) \n",
        "a=[i for i in range(1000,2001) if i%5==0 and i%7==0]\n",
        "print(a)"
      ],
      "execution_count": 2,
      "outputs": [
        {
          "output_type": "stream",
          "text": [
            "[1015, 1050, 1085, 1120, 1155, 1190, 1225, 1260, 1295, 1330, 1365, 1400, 1435, 1470, 1505, 1540, 1575, 1610, 1645, 1680, 1715, 1750, 1785, 1820, 1855, 1890, 1925, 1960, 1995]\n"
          ],
          "name": "stdout"
        }
      ]
    },
    {
      "cell_type": "code",
      "metadata": {
        "id": "DXrk4MuwlBGh",
        "colab_type": "code",
        "colab": {
          "base_uri": "https://localhost:8080/",
          "height": 139
        },
        "outputId": "4c02bf0f-cd27-4053-8a39-39ad40fd4602"
      },
      "source": [
        "#Add the n number of names in a list and print them alphabetically and reverse  alphabetically. \n",
        "a=[input('Enter the names: ') for i in range(int(input('Enter the number of names: ')))]\n",
        "a.sort()\n",
        "print(f'Alphabetical Order: {a}')\n",
        "l=sorted(a, reverse=True)\n",
        "print(f'Reverse Alphabetical Order: {l}')"
      ],
      "execution_count": 9,
      "outputs": [
        {
          "output_type": "stream",
          "text": [
            "Enter the number of names: 4\n",
            "Enter the names: Sai harsha\n",
            "Enter the names: Surya \n",
            "Enter the names: Suhas\n",
            "Enter the names: Shrinivas\n",
            "Alphabetical Order: ['Sai harsha', 'Shrinivas', 'Suhas', 'Surya ']\n",
            "Reverse Alphabetical Order: ['Surya ', 'Suhas', 'Shrinivas', 'Sai harsha']\n"
          ],
          "name": "stdout"
        }
      ]
    },
    {
      "cell_type": "code",
      "metadata": {
        "id": "BL5aDN3DnCim",
        "colab_type": "code",
        "colab": {
          "base_uri": "https://localhost:8080/",
          "height": 34
        },
        "outputId": "afec3f93-7a1e-4fe5-9f66-7da7845ee177"
      },
      "source": [
        "#Print perfect squares and divisible by 5 between 500 and 1000 (both inclusive)  using list comprehension\n",
        "import math\n",
        "a=[i for i in range(500,1001) if math.sqrt(i)==int(math.sqrt(i)) and i%5==0]\n",
        "print(a)"
      ],
      "execution_count": 11,
      "outputs": [
        {
          "output_type": "stream",
          "text": [
            "[625, 900]\n"
          ],
          "name": "stdout"
        }
      ]
    },
    {
      "cell_type": "code",
      "metadata": {
        "id": "ii1W8fPpojmn",
        "colab_type": "code",
        "colab": {
          "base_uri": "https://localhost:8080/",
          "height": 139
        },
        "outputId": "49672c13-8021-488f-a0d3-b53b11f82a1d"
      },
      "source": [
        "#Calculate the Average of the numbers in a List by getting the elements of list from  keyboard . \n",
        "a=[int(input('Enter the numbers: ')) for i in range(int(input('Enter the number of elements: ')))]\n",
        "print(f'Average: {sum(a)/len(a)}')"
      ],
      "execution_count": 16,
      "outputs": [
        {
          "output_type": "stream",
          "text": [
            "Enter the number of elements: 5\n",
            "Enter teh numbers: 6\n",
            "Enter teh numbers: 4\n",
            "Enter teh numbers: 8\n",
            "Enter teh numbers: 2\n",
            "Enter teh numbers: 5\n",
            "Average: 5.0\n"
          ],
          "name": "stdout"
        }
      ]
    },
    {
      "cell_type": "code",
      "metadata": {
        "id": "HmIzmPC4pnOW",
        "colab_type": "code",
        "colab": {
          "base_uri": "https://localhost:8080/",
          "height": 89
        },
        "outputId": "899be870-11a4-46fa-cd57-220773f83bc6"
      },
      "source": [
        "#Print lists of odd,even and multiples of 5 numbers from 1 to 1000 using list  comprehension \n",
        "a=[i for i in range(1,1000) if i%2==0]\n",
        "b=[i for i in range(1,1000) if i%2==1]\n",
        "c=[i for i in range(1,1000) if i%5==0]\n",
        "print(f\"Even numbers' list: {a}\\nOdd numbers' list: {b}\\nList of numbers' of multiple of 5: {c}\")"
      ],
      "execution_count": 17,
      "outputs": [
        {
          "output_type": "stream",
          "text": [
            "Even numbers' list: [2, 4, 6, 8, 10, 12, 14, 16, 18, 20, 22, 24, 26, 28, 30, 32, 34, 36, 38, 40, 42, 44, 46, 48, 50, 52, 54, 56, 58, 60, 62, 64, 66, 68, 70, 72, 74, 76, 78, 80, 82, 84, 86, 88, 90, 92, 94, 96, 98, 100, 102, 104, 106, 108, 110, 112, 114, 116, 118, 120, 122, 124, 126, 128, 130, 132, 134, 136, 138, 140, 142, 144, 146, 148, 150, 152, 154, 156, 158, 160, 162, 164, 166, 168, 170, 172, 174, 176, 178, 180, 182, 184, 186, 188, 190, 192, 194, 196, 198, 200, 202, 204, 206, 208, 210, 212, 214, 216, 218, 220, 222, 224, 226, 228, 230, 232, 234, 236, 238, 240, 242, 244, 246, 248, 250, 252, 254, 256, 258, 260, 262, 264, 266, 268, 270, 272, 274, 276, 278, 280, 282, 284, 286, 288, 290, 292, 294, 296, 298, 300, 302, 304, 306, 308, 310, 312, 314, 316, 318, 320, 322, 324, 326, 328, 330, 332, 334, 336, 338, 340, 342, 344, 346, 348, 350, 352, 354, 356, 358, 360, 362, 364, 366, 368, 370, 372, 374, 376, 378, 380, 382, 384, 386, 388, 390, 392, 394, 396, 398, 400, 402, 404, 406, 408, 410, 412, 414, 416, 418, 420, 422, 424, 426, 428, 430, 432, 434, 436, 438, 440, 442, 444, 446, 448, 450, 452, 454, 456, 458, 460, 462, 464, 466, 468, 470, 472, 474, 476, 478, 480, 482, 484, 486, 488, 490, 492, 494, 496, 498, 500, 502, 504, 506, 508, 510, 512, 514, 516, 518, 520, 522, 524, 526, 528, 530, 532, 534, 536, 538, 540, 542, 544, 546, 548, 550, 552, 554, 556, 558, 560, 562, 564, 566, 568, 570, 572, 574, 576, 578, 580, 582, 584, 586, 588, 590, 592, 594, 596, 598, 600, 602, 604, 606, 608, 610, 612, 614, 616, 618, 620, 622, 624, 626, 628, 630, 632, 634, 636, 638, 640, 642, 644, 646, 648, 650, 652, 654, 656, 658, 660, 662, 664, 666, 668, 670, 672, 674, 676, 678, 680, 682, 684, 686, 688, 690, 692, 694, 696, 698, 700, 702, 704, 706, 708, 710, 712, 714, 716, 718, 720, 722, 724, 726, 728, 730, 732, 734, 736, 738, 740, 742, 744, 746, 748, 750, 752, 754, 756, 758, 760, 762, 764, 766, 768, 770, 772, 774, 776, 778, 780, 782, 784, 786, 788, 790, 792, 794, 796, 798, 800, 802, 804, 806, 808, 810, 812, 814, 816, 818, 820, 822, 824, 826, 828, 830, 832, 834, 836, 838, 840, 842, 844, 846, 848, 850, 852, 854, 856, 858, 860, 862, 864, 866, 868, 870, 872, 874, 876, 878, 880, 882, 884, 886, 888, 890, 892, 894, 896, 898, 900, 902, 904, 906, 908, 910, 912, 914, 916, 918, 920, 922, 924, 926, 928, 930, 932, 934, 936, 938, 940, 942, 944, 946, 948, 950, 952, 954, 956, 958, 960, 962, 964, 966, 968, 970, 972, 974, 976, 978, 980, 982, 984, 986, 988, 990, 992, 994, 996, 998]\n",
            "Odd numbers' list: [1, 3, 5, 7, 9, 11, 13, 15, 17, 19, 21, 23, 25, 27, 29, 31, 33, 35, 37, 39, 41, 43, 45, 47, 49, 51, 53, 55, 57, 59, 61, 63, 65, 67, 69, 71, 73, 75, 77, 79, 81, 83, 85, 87, 89, 91, 93, 95, 97, 99, 101, 103, 105, 107, 109, 111, 113, 115, 117, 119, 121, 123, 125, 127, 129, 131, 133, 135, 137, 139, 141, 143, 145, 147, 149, 151, 153, 155, 157, 159, 161, 163, 165, 167, 169, 171, 173, 175, 177, 179, 181, 183, 185, 187, 189, 191, 193, 195, 197, 199, 201, 203, 205, 207, 209, 211, 213, 215, 217, 219, 221, 223, 225, 227, 229, 231, 233, 235, 237, 239, 241, 243, 245, 247, 249, 251, 253, 255, 257, 259, 261, 263, 265, 267, 269, 271, 273, 275, 277, 279, 281, 283, 285, 287, 289, 291, 293, 295, 297, 299, 301, 303, 305, 307, 309, 311, 313, 315, 317, 319, 321, 323, 325, 327, 329, 331, 333, 335, 337, 339, 341, 343, 345, 347, 349, 351, 353, 355, 357, 359, 361, 363, 365, 367, 369, 371, 373, 375, 377, 379, 381, 383, 385, 387, 389, 391, 393, 395, 397, 399, 401, 403, 405, 407, 409, 411, 413, 415, 417, 419, 421, 423, 425, 427, 429, 431, 433, 435, 437, 439, 441, 443, 445, 447, 449, 451, 453, 455, 457, 459, 461, 463, 465, 467, 469, 471, 473, 475, 477, 479, 481, 483, 485, 487, 489, 491, 493, 495, 497, 499, 501, 503, 505, 507, 509, 511, 513, 515, 517, 519, 521, 523, 525, 527, 529, 531, 533, 535, 537, 539, 541, 543, 545, 547, 549, 551, 553, 555, 557, 559, 561, 563, 565, 567, 569, 571, 573, 575, 577, 579, 581, 583, 585, 587, 589, 591, 593, 595, 597, 599, 601, 603, 605, 607, 609, 611, 613, 615, 617, 619, 621, 623, 625, 627, 629, 631, 633, 635, 637, 639, 641, 643, 645, 647, 649, 651, 653, 655, 657, 659, 661, 663, 665, 667, 669, 671, 673, 675, 677, 679, 681, 683, 685, 687, 689, 691, 693, 695, 697, 699, 701, 703, 705, 707, 709, 711, 713, 715, 717, 719, 721, 723, 725, 727, 729, 731, 733, 735, 737, 739, 741, 743, 745, 747, 749, 751, 753, 755, 757, 759, 761, 763, 765, 767, 769, 771, 773, 775, 777, 779, 781, 783, 785, 787, 789, 791, 793, 795, 797, 799, 801, 803, 805, 807, 809, 811, 813, 815, 817, 819, 821, 823, 825, 827, 829, 831, 833, 835, 837, 839, 841, 843, 845, 847, 849, 851, 853, 855, 857, 859, 861, 863, 865, 867, 869, 871, 873, 875, 877, 879, 881, 883, 885, 887, 889, 891, 893, 895, 897, 899, 901, 903, 905, 907, 909, 911, 913, 915, 917, 919, 921, 923, 925, 927, 929, 931, 933, 935, 937, 939, 941, 943, 945, 947, 949, 951, 953, 955, 957, 959, 961, 963, 965, 967, 969, 971, 973, 975, 977, 979, 981, 983, 985, 987, 989, 991, 993, 995, 997, 999]\n",
            "List of numbers' of multiple of 5: [5, 10, 15, 20, 25, 30, 35, 40, 45, 50, 55, 60, 65, 70, 75, 80, 85, 90, 95, 100, 105, 110, 115, 120, 125, 130, 135, 140, 145, 150, 155, 160, 165, 170, 175, 180, 185, 190, 195, 200, 205, 210, 215, 220, 225, 230, 235, 240, 245, 250, 255, 260, 265, 270, 275, 280, 285, 290, 295, 300, 305, 310, 315, 320, 325, 330, 335, 340, 345, 350, 355, 360, 365, 370, 375, 380, 385, 390, 395, 400, 405, 410, 415, 420, 425, 430, 435, 440, 445, 450, 455, 460, 465, 470, 475, 480, 485, 490, 495, 500, 505, 510, 515, 520, 525, 530, 535, 540, 545, 550, 555, 560, 565, 570, 575, 580, 585, 590, 595, 600, 605, 610, 615, 620, 625, 630, 635, 640, 645, 650, 655, 660, 665, 670, 675, 680, 685, 690, 695, 700, 705, 710, 715, 720, 725, 730, 735, 740, 745, 750, 755, 760, 765, 770, 775, 780, 785, 790, 795, 800, 805, 810, 815, 820, 825, 830, 835, 840, 845, 850, 855, 860, 865, 870, 875, 880, 885, 890, 895, 900, 905, 910, 915, 920, 925, 930, 935, 940, 945, 950, 955, 960, 965, 970, 975, 980, 985, 990, 995]\n"
          ],
          "name": "stdout"
        }
      ]
    },
    {
      "cell_type": "code",
      "metadata": {
        "id": "ae85r8PXrNdt",
        "colab_type": "code",
        "colab": {
          "base_uri": "https://localhost:8080/",
          "height": 52
        },
        "outputId": "64ecbcab-4880-4f56-cd52-2e670ac41ec7"
      },
      "source": [
        "#Python Program to Create a List of Tuples with the First Element as the Number and Second  Element as the Square of the Number  \n",
        "a=[(i,i*i) for i in range(1,int(input('Enter the number of elements: ')))]\n",
        "print(a)"
      ],
      "execution_count": 19,
      "outputs": [
        {
          "output_type": "stream",
          "text": [
            "Enter the number of elements: 6\n",
            "[(1, 1), (2, 4), (3, 9), (4, 16), (5, 25)]\n"
          ],
          "name": "stdout"
        }
      ]
    },
    {
      "cell_type": "code",
      "metadata": {
        "id": "I2leeHbcrr_b",
        "colab_type": "code",
        "colab": {
          "base_uri": "https://localhost:8080/",
          "height": 121
        },
        "outputId": "16573e4e-3c5f-43fc-f5b6-f708551e1312"
      },
      "source": [
        "#Write python program to have a list of words to sort them from shortest to longest using list of  tuples \n",
        "a=[(input('Enter the word: ')) for i in range(int(input('Ente the number of elements: ')))]\n",
        "l=[]\n",
        "for i in a:\n",
        "  l.append((len(i), i))\n",
        "l.sort()\n",
        "n=[j for i,j in l]\n",
        "print(n)\n",
        "\n"
      ],
      "execution_count": 24,
      "outputs": [
        {
          "output_type": "stream",
          "text": [
            "Ente the number of elements: 4\n",
            "Enter the word: SuhasM\n",
            "Enter the word: Surya\n",
            "Enter the word: Shrinivas\n",
            "Enter the word: Sai\n",
            "['Sai', 'Surya', 'SuhasM', 'Shrinivas']\n"
          ],
          "name": "stdout"
        }
      ]
    },
    {
      "cell_type": "code",
      "metadata": {
        "id": "ik976qlmu-UB",
        "colab_type": "code",
        "colab": {
          "base_uri": "https://localhost:8080/",
          "height": 208
        },
        "outputId": "612690b2-b836-49b2-fc14-465e989544d7"
      },
      "source": [
        "#Write python program to get a list of tuples of Rollno,Name for 5 students through keyboard and  sort them Rollno wise ascending order \n",
        "a=[(int(input('Enter the rool no.: ')), input('Enter the Name: ')) for i in range(5)]\n",
        "a.sort()\n",
        "print(a)"
      ],
      "execution_count": 26,
      "outputs": [
        {
          "output_type": "stream",
          "text": [
            "Enter the rool no.: 5\n",
            "Enter the Name: Suhas\n",
            "Enter the rool no.: 3\n",
            "Enter the Name: Shri\n",
            "Enter the rool no.: 1\n",
            "Enter the Name: Surya\n",
            "Enter the rool no.: 4\n",
            "Enter the Name: Sai\n",
            "Enter the rool no.: 2\n",
            "Enter the Name: Nachi\n",
            "[(1, 'Surya'), (2, 'Nachi'), (3, 'Shri'), (4, 'Sai'), (5, 'Suhas')]\n"
          ],
          "name": "stdout"
        }
      ]
    },
    {
      "cell_type": "code",
      "metadata": {
        "id": "r1PvDQzBwXGH",
        "colab_type": "code",
        "colab": {
          "base_uri": "https://localhost:8080/",
          "height": 208
        },
        "outputId": "262af4bb-88ee-4ace-9782-f38ffc903def"
      },
      "source": [
        "#Write python program to get a list of tuples of Rollno,Name for 5 students through keyboard and  sort them by Rollno wise descending order \n",
        "a=[(int(input('Enter the rool no.: ')), input('Enter the Name: ')) for i in range(5)]\n",
        "a.sort(reverse=True)\n",
        "print(a)"
      ],
      "execution_count": 27,
      "outputs": [
        {
          "output_type": "stream",
          "text": [
            "Enter the rool no.: 5\n",
            "Enter the Name: Suhas\n",
            "Enter the rool no.: 3\n",
            "Enter the Name: Shri\n",
            "Enter the rool no.: 1\n",
            "Enter the Name: Surya\n",
            "Enter the rool no.: 4\n",
            "Enter the Name: Sai\n",
            "Enter the rool no.: 2\n",
            "Enter the Name: Nachi\n",
            "[(5, 'Suhas'), (4, 'Sai'), (3, 'Shri'), (2, 'Nachi'), (1, 'Surya')]\n"
          ],
          "name": "stdout"
        }
      ]
    },
    {
      "cell_type": "code",
      "metadata": {
        "id": "9GCc425rws53",
        "colab_type": "code",
        "colab": {
          "base_uri": "https://localhost:8080/",
          "height": 208
        },
        "outputId": "bca9dc3d-a749-4d79-e14f-ea9e3b9cf2ef"
      },
      "source": [
        "#.Write python program to get a list of tuples of Rollno,Name for 5 students through keyboard and  sort them by Name wise ascending order \n",
        "import operator\n",
        "a=[(int(input('Enter the rool no.: ')), input('Enter the Name: ')) for i in range(5)]\n",
        "l=sorted(a, key=operator.itemgetter(1), reverse=False)\n",
        "print(l)"
      ],
      "execution_count": 30,
      "outputs": [
        {
          "output_type": "stream",
          "text": [
            "Enter the rool no.: 5\n",
            "Enter the Name: Suhas\n",
            "Enter the rool no.: 3\n",
            "Enter the Name: Shri\n",
            "Enter the rool no.: 1\n",
            "Enter the Name: Surya\n",
            "Enter the rool no.: 4\n",
            "Enter the Name: Sai\n",
            "Enter the rool no.: 2\n",
            "Enter the Name: Nachi\n",
            "[(2, 'Nachi'), (4, 'Sai'), (3, 'Shri'), (5, 'Suhas'), (1, 'Surya')]\n"
          ],
          "name": "stdout"
        }
      ]
    },
    {
      "cell_type": "code",
      "metadata": {
        "id": "ZuB-zIG9x1TO",
        "colab_type": "code",
        "colab": {
          "base_uri": "https://localhost:8080/",
          "height": 208
        },
        "outputId": "cf955bf7-fe00-4356-ea0f-088f3be68a1d"
      },
      "source": [
        "#Write python program to get a list of tuples of Rollno,Name for 5 students through keyboard and  sort them by Name wise descending order\n",
        "import operator\n",
        "a=[(int(input('Enter the rool no.: ')), input('Enter the Name: ')) for i in range(5)]\n",
        "l=sorted(a, key=operator.itemgetter(1), reverse=True)\n",
        "print(l)"
      ],
      "execution_count": 31,
      "outputs": [
        {
          "output_type": "stream",
          "text": [
            "Enter the rool no.: 5\n",
            "Enter the Name: Suhas\n",
            "Enter the rool no.: 3\n",
            "Enter the Name: Shri\n",
            "Enter the rool no.: 1\n",
            "Enter the Name: Surya\n",
            "Enter the rool no.: 4\n",
            "Enter the Name: Sai\n",
            "Enter the rool no.: 2\n",
            "Enter the Name: Nachi\n",
            "[(1, 'Surya'), (5, 'Suhas'), (3, 'Shri'), (4, 'Sai'), (2, 'Nachi')]\n"
          ],
          "name": "stdout"
        }
      ]
    }
  ]
}