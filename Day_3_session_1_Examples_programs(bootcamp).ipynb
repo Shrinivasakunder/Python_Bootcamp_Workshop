{
  "nbformat": 4,
  "nbformat_minor": 0,
  "metadata": {
    "colab": {
      "name": "Day 3 session 1 Examples programs(bootcamp).ipynb",
      "provenance": [],
      "authorship_tag": "ABX9TyMOmClx1cDnklh3J9UbtPGt",
      "include_colab_link": true
    },
    "kernelspec": {
      "name": "python3",
      "display_name": "Python 3"
    }
  },
  "cells": [
    {
      "cell_type": "markdown",
      "metadata": {
        "id": "view-in-github",
        "colab_type": "text"
      },
      "source": [
        "<a href=\"https://colab.research.google.com/github/Shrinivasakunder/Python_Bootcamp_Workshop/blob/master/Day_3_session_1_Examples_programs(bootcamp).ipynb\" target=\"_parent\"><img src=\"https://colab.research.google.com/assets/colab-badge.svg\" alt=\"Open In Colab\"/></a>"
      ]
    },
    {
      "cell_type": "code",
      "metadata": {
        "id": "_GFDZmvidMyG",
        "colab_type": "code",
        "colab": {
          "base_uri": "https://localhost:8080/",
          "height": 69
        },
        "outputId": "5813c6b0-5642-4483-c8ad-6f2a19299fcc"
      },
      "source": [
        "#Python Program to Create a Class and Compute the Area and the Perimeter of the Circle  \n",
        "import math \n",
        "class circle(): \n",
        " def __init__(self,radius): \n",
        "   self.radius=radius \n",
        " def area(self): \n",
        "   return math.pi*(self.radius**2) \n",
        " def perimeter(self): \n",
        "   return 2*math.pi*self.radius \n",
        "r=int(input(\"Enter radius of circle: \")) \n",
        "obj=circle(r) \n",
        "print(\"Area of circle:\",round(obj.area(),2)) \n",
        "print(\"Perimeter of circle:\",round(obj.perimeter(),2)) \n"
      ],
      "execution_count": 6,
      "outputs": [
        {
          "output_type": "stream",
          "text": [
            "Enter radius of circle: 5\n",
            "Area of circle: 78.54\n",
            "Perimeter of circle: 31.42\n"
          ],
          "name": "stdout"
        }
      ]
    },
    {
      "cell_type": "code",
      "metadata": {
        "id": "VwW72LrTmtqh",
        "colab_type": "code",
        "colab": {
          "base_uri": "https://localhost:8080/",
          "height": 69
        },
        "outputId": "bdfeab7d-4ec8-4f5e-e796-0e3f355f18cd"
      },
      "source": [
        "#Creating simple class and objects for counting the number of employees  \n",
        "#defining class \n",
        "class Employee: \n",
        " 'Common base class for all employees' \n",
        " empCount = 0 \n",
        " #defining the constructor\n",
        " def __init__(self, name, salary): \n",
        "   self.name = name \n",
        "   self.salary = salary \n",
        "   Employee.empCount += 1 \n",
        " def displayCount(self): \n",
        "   print(\"Total Employee %d\" % Employee.empCount) \n",
        " def displayEmployee(self): \n",
        "   print (\"Name : \", self.name, \", Salary: \", self.salary) \n",
        "\"This would create first object of Employee class\" \n",
        "emp1 = Employee(\"Zara\", 2000) \n",
        "\"This would create second object of Employee class\" \n",
        "emp2 = Employee(\"Manni\", 5000)\n",
        "emp1.displayEmployee() \n",
        "emp2.displayEmployee() \n",
        "print(\"Total Employee %d\" % Employee.empCount) \n"
      ],
      "execution_count": 9,
      "outputs": [
        {
          "output_type": "stream",
          "text": [
            "Name :  Zara , Salary:  2000\n",
            "Name :  Manni , Salary:  5000\n",
            "Total Employee 2\n"
          ],
          "name": "stdout"
        }
      ]
    },
    {
      "cell_type": "code",
      "metadata": {
        "id": "yMAAKPS3pQTj",
        "colab_type": "code",
        "colab": {
          "base_uri": "https://localhost:8080/",
          "height": 52
        },
        "outputId": "e853c8c9-2b1a-4510-999b-1269bdb67aa8"
      },
      "source": [
        "# A Python program to demonstrate inheritance  \n",
        "class Person(object):    \n",
        "  def __init__(self, name):  \n",
        "    self.name = name  \n",
        "  def getName(self):  \n",
        "    return self.name \n",
        "  def isEmployee(self):  \n",
        "    return False   \n",
        "class Employee(Person):  \n",
        "  def isEmployee(self):  \n",
        "    return True \n",
        "\n",
        "emp = Person(\"Ram\")\n",
        "print(emp.getName(), emp.isEmployee())  \n",
        "emp = Employee(\"Raj\")\n",
        "print(emp.getName(), emp.isEmployee())  \n"
      ],
      "execution_count": 11,
      "outputs": [
        {
          "output_type": "stream",
          "text": [
            "Ram False\n",
            "Raj True\n"
          ],
          "name": "stdout"
        }
      ]
    },
    {
      "cell_type": "code",
      "metadata": {
        "id": "f-bAgb8BxCWk",
        "colab_type": "code",
        "colab": {
          "base_uri": "https://localhost:8080/",
          "height": 86
        },
        "outputId": "c1e69d7c-1317-401d-c803-4d3945dc01e0"
      },
      "source": [
        "# Accessing public members of the \n",
        "class Person: \n",
        " def __init__(self, name, age=0): \n",
        "   self.name = name \n",
        "   self.age = age \n",
        " def display(self):\n",
        "   print(self.name) \n",
        "   print(self.age) \n",
        "person = Person('Dev', 30) \n",
        "person.display() \n",
        "print(person.name) \n",
        "print(person.age) \n"
      ],
      "execution_count": 13,
      "outputs": [
        {
          "output_type": "stream",
          "text": [
            "Dev\n",
            "30\n",
            "Dev\n",
            "30\n"
          ],
          "name": "stdout"
        }
      ]
    },
    {
      "cell_type": "code",
      "metadata": {
        "id": "tr-tb3BSxTPa",
        "colab_type": "code",
        "colab": {
          "base_uri": "https://localhost:8080/",
          "height": 86
        },
        "outputId": "21e978f2-7ddb-4aa5-cd70-64b1167038a7"
      },
      "source": [
        "# Accessing protected members of the class using single underscore \n",
        "class Person: \n",
        " def __init__(self, name, age=0): \n",
        "   self.name = name \n",
        "   self._age = age \n",
        " def display(self): \n",
        "   print(self.name) \n",
        "   print(self._age) \n",
        "person = Person('Dev', 30) \n",
        "person.display() \n",
        "print(person.name) \n",
        "print(person._age) \n"
      ],
      "execution_count": 14,
      "outputs": [
        {
          "output_type": "stream",
          "text": [
            "Dev\n",
            "30\n",
            "Dev\n",
            "30\n"
          ],
          "name": "stdout"
        }
      ]
    },
    {
      "cell_type": "code",
      "metadata": {
        "id": "8NeQrBxaxeSK",
        "colab_type": "code",
        "colab": {}
      },
      "source": [
        "# Accessing private members of the class using double underscore \n",
        "class Person: \n",
        " def __init__(self, name, age=0): \n",
        "   self.name = name \n",
        "   self.__age = age \n",
        " def display(self): \n",
        "   print(self.name) \n",
        "   print(self.__age) \n",
        "person = Person('Dev', 30)\n",
        "person.display() \n",
        "print('Trying to access variables from outside the class ') \n",
        "print(person.name) \n",
        "print(person.__age) \n"
      ],
      "execution_count": null,
      "outputs": []
    },
    {
      "cell_type": "code",
      "metadata": {
        "id": "a-451A73yPXv",
        "colab_type": "code",
        "colab": {
          "base_uri": "https://localhost:8080/",
          "height": 69
        },
        "outputId": "8095d2bd-25b5-4d55-d8c0-0f39f970b9cc"
      },
      "source": [
        "#Using Getter and Setter methods to access private variables \n",
        "class Person: \n",
        "  def __init__(self, name, age=0): \n",
        "    self.name = name \n",
        "    self.__age = age \n",
        "  def display(self): \n",
        "    print(self.name) \n",
        "    print(self.__age) \n",
        "  def getAge(self): \n",
        "    print(self.__age) \n",
        "  def setAge(self, age): \n",
        "    self.__age = age \n",
        "person = Person('Dev', 30) \n",
        "person.display() \n",
        "person.setAge(35) \n",
        "person.getAge() "
      ],
      "execution_count": 18,
      "outputs": [
        {
          "output_type": "stream",
          "text": [
            "Dev\n",
            "30\n",
            "35\n"
          ],
          "name": "stdout"
        }
      ]
    },
    {
      "cell_type": "code",
      "metadata": {
        "id": "cg1bKFJ0ypH-",
        "colab_type": "code",
        "colab": {
          "base_uri": "https://localhost:8080/",
          "height": 69
        },
        "outputId": "0a312b7f-c0ec-42bc-d188-78ec6907e855"
      },
      "source": [
        "# Example of hybrid inheritance (multilevel and multiple inheritance) \n",
        "class Family: \n",
        " def show_family(self): \n",
        "   print(\"This is our family:\") \n",
        "class Father(Family): \n",
        " fathername = \"\" \n",
        " def show_father(self): \n",
        "   print(self.fathername) \n",
        "class Mother(Family): \n",
        " mothername = \"\" \n",
        " def show_mother(self): \n",
        "   print(self.mothername) \n",
        "class Son(Father, Mother): \n",
        " def show_parent(self): \n",
        "   print(\"Father :\", self.fathername) \n",
        "   print(\"Mother :\", self.mothername) \n",
        "s1 = Son() \n",
        "s1.fathername = \"Mark\" \n",
        "s1.mothername = \"Sonia\" \n",
        "s1.show_family() \n",
        "s1.show_parent() \n"
      ],
      "execution_count": 19,
      "outputs": [
        {
          "output_type": "stream",
          "text": [
            "This is our family:\n",
            "Father : Mark\n",
            "Mother : Sonia\n"
          ],
          "name": "stdout"
        }
      ]
    },
    {
      "cell_type": "code",
      "metadata": {
        "id": "iKYa_VtvzKye",
        "colab_type": "code",
        "colab": {
          "base_uri": "https://localhost:8080/",
          "height": 660
        },
        "outputId": "cc9b502e-9036-4e49-eb05-4c3dec6490ad"
      },
      "source": [
        "#Python Program to Create a Class which Performs Basic Calculator Operations \n",
        "class cal(): \n",
        " def __init__(self,a,b): \n",
        "   self.a=a \n",
        "   self.b=b \n",
        " def add(self): \n",
        "   return self.a+self.b \n",
        " def mul(self): \n",
        "   return self.a*self.b \n",
        " def div(self): \n",
        "   return self.a/self.b \n",
        " def sub(self): \n",
        "   return self.a-self.b \n",
        "a=int(input(\"Enter first number: \")) \n",
        "b=int(input(\"Enter second number: \")) \n",
        "obj=cal(a,b) \n",
        "choice=1 \n",
        "while choice!=0: \n",
        " print(\"0. Exit\") \n",
        " print(\"1. Add\") \n",
        " print(\"2. Subtraction\") \n",
        " print(\"3. Multiplication\") \n",
        " print(\"4. Division\") \n",
        " choice=int(input(\"Enter choice: \")) \n",
        " if choice==1:\n",
        "   print(\"Result: \",obj.add()) \n",
        " elif choice==2: \n",
        "   print(\"Result: \",obj.sub()) \n",
        " elif choice==3: \n",
        "   print(\"Result: \",obj.mul()) \n",
        " elif choice==4: \n",
        "   print(\"Result: \",round(obj.div(),2)) \n",
        " elif choice==0: \n",
        "   print(\"Exiting!\") \n",
        " else: \n",
        "   print(\"Invalid choice!!\") \n"
      ],
      "execution_count": 20,
      "outputs": [
        {
          "output_type": "stream",
          "text": [
            "Enter first number: 2\n",
            "Enter second number: 5\n",
            "0. Exit\n",
            "1. Add\n",
            "2. Subtraction\n",
            "3. Multiplication\n",
            "4. Division\n",
            "Enter choice: 1\n",
            "Result:  7\n",
            "0. Exit\n",
            "1. Add\n",
            "2. Subtraction\n",
            "3. Multiplication\n",
            "4. Division\n",
            "Enter choice: 2\n",
            "Result:  -3\n",
            "0. Exit\n",
            "1. Add\n",
            "2. Subtraction\n",
            "3. Multiplication\n",
            "4. Division\n",
            "Enter choice: 3\n",
            "Result:  10\n",
            "0. Exit\n",
            "1. Add\n",
            "2. Subtraction\n",
            "3. Multiplication\n",
            "4. Division\n",
            "Enter choice: 4\n",
            "Result:  0.4\n",
            "0. Exit\n",
            "1. Add\n",
            "2. Subtraction\n",
            "3. Multiplication\n",
            "4. Division\n",
            "Enter choice: 0\n",
            "Exiting!\n"
          ],
          "name": "stdout"
        }
      ]
    },
    {
      "cell_type": "code",
      "metadata": {
        "id": "CdGcLJTYzvB3",
        "colab_type": "code",
        "colab": {
          "base_uri": "https://localhost:8080/",
          "height": 469
        },
        "outputId": "fcbcc98d-e4ad-46ed-80a1-b35e07f1169f"
      },
      "source": [
        "# Python Program to Append, Delete and Display Elements of a List Using Classes \n",
        "class check(): \n",
        " def __init__(self): \n",
        "   self.n=[] \n",
        " def add(self,a): \n",
        "   self.n.append(a) \n",
        " def remove(self,b): \n",
        "   self.n.remove(b) \n",
        " def dis(self): \n",
        "   return (self.n) \n",
        "obj=check() \n",
        "choice=1 \n",
        "while choice!=0: \n",
        " print(\"0. Exit\") \n",
        " print(\"1. Add\") \n",
        " print(\"2. Delete\") \n",
        " print(\"3. Display\") \n",
        " choice=int(input(\"Enter choice: \")) \n",
        " if choice==1: \n",
        "   n=int(input(\"Enter number to append: \")) \n",
        "   obj.add(n) \n",
        "   print(\"List: \",obj.dis()) \n",
        " elif choice==2: \n",
        "   n=int(input(\"Enter number to remove: \")) \n",
        "   obj.remove(n) \n",
        "   print(\"List: \",obj.dis()) \n",
        " elif choice==3: \n",
        "   print(\"List: \",obj.dis()) \n",
        " elif choice==0: \n",
        "   print(\"Exiting!\") \n",
        " else: \n",
        "   print(\"Invalid choice!!\")\n"
      ],
      "execution_count": 21,
      "outputs": [
        {
          "output_type": "stream",
          "text": [
            "0. Exit\n",
            "1. Add\n",
            "2. Delete\n",
            "3. Display\n",
            "Enter choice: 1\n",
            "Enter number to append: 2\n",
            "List:  [2]\n",
            "0. Exit\n",
            "1. Add\n",
            "2. Delete\n",
            "3. Display\n",
            "Enter choice: 3\n",
            "List:  [2]\n",
            "0. Exit\n",
            "1. Add\n",
            "2. Delete\n",
            "3. Display\n",
            "Enter choice: 2\n",
            "Enter number to remove: 2\n",
            "List:  []\n",
            "0. Exit\n",
            "1. Add\n",
            "2. Delete\n",
            "3. Display\n",
            "Enter choice: 0\n",
            "Exiting!\n"
          ],
          "name": "stdout"
        }
      ]
    },
    {
      "cell_type": "code",
      "metadata": {
        "id": "Olct1mn20ZJB",
        "colab_type": "code",
        "colab": {
          "base_uri": "https://localhost:8080/",
          "height": 104
        },
        "outputId": "750e4673-4b45-4715-c263-f726a5d02f48"
      },
      "source": [
        "# linked list using class \n",
        "class Node: \n",
        " def __init__(self, data): \n",
        "   self.data = data \n",
        "   self.next = None \n",
        "class LinkedList: \n",
        " def __init__(self): \n",
        "   self.head = None \n",
        "   self.last_node = None \n",
        " def append(self, data): \n",
        "   if self.last_node is None: \n",
        "     self.head = Node(data) \n",
        "     self.last_node = self.head \n",
        "   else: \n",
        "     self.last_node.next = Node(data) \n",
        "     self.last_node = self.last_node.next \n",
        " def display(self): \n",
        "   current = self.head \n",
        "   while current is not None: \n",
        "     print(current.data, end = ' ') \n",
        "     current = current.next \n",
        "a_llist = LinkedList() \n",
        "n = int(input('How many elements would you like to add? ')) \n",
        "for i in range(n): \n",
        " data = int(input('Enter data item: ')) \n",
        " a_llist.append(data) \n",
        "print('The linked list: ', end = '') \n",
        "a_llist.display() \n"
      ],
      "execution_count": 23,
      "outputs": [
        {
          "output_type": "stream",
          "text": [
            "How many elements would you like to add? 3\n",
            "Enter data item: 5\n",
            "Enter data item: 2\n",
            "Enter data item: 8\n",
            "The linked list: 5 2 8 "
          ],
          "name": "stdout"
        }
      ]
    },
    {
      "cell_type": "code",
      "metadata": {
        "id": "xkInc1di188w",
        "colab_type": "code",
        "colab": {
          "base_uri": "https://localhost:8080/",
          "height": 104
        },
        "outputId": "3cb0ee12-58db-4626-d1b1-be1ad6dc82b8"
      },
      "source": [
        "# operator overloading example program \n",
        "class Vector: \n",
        " def __init__(self, a, b): \n",
        "   self.a = a \n",
        "   self.b = b \n",
        " def __str__(self): \n",
        "   return 'Vector (%d, %d)' % (self.a, self.b) \n",
        " def __add__(self,other): \n",
        "   return Vector(self.a + other.a, self.b + other.b)  \n",
        " def __sub__(self,other): \n",
        "   return Vector(self.a - other.a, self.b - other.b) \n",
        " def __mul__(self,other): \n",
        "   return Vector(self.a * other.a, self.b * other.b)  \n",
        " def __truediv__(self,other): \n",
        "   return Vector(float(self.a) /other.a, float(self.b) / other.b)  \n",
        " def __floordiv__(self,other):\n",
        "   return Vector(float(self.a) //other.a, float(self.b) //other.b) \n",
        "  \n",
        "v1 = Vector(5,10) \n",
        "v2 = Vector(2,-2) \n",
        "print (v1 + v2) \n",
        "print (v1 - v2) \n",
        "print (v1 * v2) \n",
        "print (v1 / v2) \n",
        "print (v1 // v2) \n"
      ],
      "execution_count": 25,
      "outputs": [
        {
          "output_type": "stream",
          "text": [
            "Vector (7, 8)\n",
            "Vector (3, 12)\n",
            "Vector (10, -20)\n",
            "Vector (2, -5)\n",
            "Vector (2, -5)\n"
          ],
          "name": "stdout"
        }
      ]
    }
  ]
}