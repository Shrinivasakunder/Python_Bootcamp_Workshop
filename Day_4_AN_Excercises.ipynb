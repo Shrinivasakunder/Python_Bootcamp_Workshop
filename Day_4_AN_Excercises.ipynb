{
  "nbformat": 4,
  "nbformat_minor": 0,
  "metadata": {
    "colab": {
      "name": "Day 4 AN Excercises.ipynb",
      "provenance": [],
      "authorship_tag": "ABX9TyMmikgW1i9eICAgud/Fs+8a",
      "include_colab_link": true
    },
    "kernelspec": {
      "name": "python3",
      "display_name": "Python 3"
    }
  },
  "cells": [
    {
      "cell_type": "markdown",
      "metadata": {
        "id": "view-in-github",
        "colab_type": "text"
      },
      "source": [
        "<a href=\"https://colab.research.google.com/github/Shrinivasakunder/Python_Bootcamp_Workshop/blob/master/Day_4_AN_Excercises.ipynb\" target=\"_parent\"><img src=\"https://colab.research.google.com/assets/colab-badge.svg\" alt=\"Open In Colab\"/></a>"
      ]
    },
    {
      "cell_type": "code",
      "metadata": {
        "id": "61IvA_No3aDB",
        "colab_type": "code",
        "colab": {
          "base_uri": "https://localhost:8080/",
          "height": 139
        },
        "outputId": "85119d82-68ef-41a6-f363-f0c59c2b36c9"
      },
      "source": [
        "#Write a function called check() , that takes in a list as the input. It has to return whether every element in it as ‘greater than 5’ or ‘not greater than 5’ or equal to 5. The returned value has to be placed in the list of tuples as (4, 'Less than 5'), (12, 'Greater than 5 '), (5, 'Equal to 5 '), and so on...\n",
        "def check(l):\n",
        "  list=[]\n",
        "  for i in l:\n",
        "    if i==5:\n",
        "      list.append((i,'Equal to 5'))\n",
        "    elif (i<5):\n",
        "      list.append((i,'Less than 5'))\n",
        "    else:\n",
        "       list.append((i,'Greater than 5'))\n",
        "  return list\n",
        "\n",
        "a=[int(input('Enter the elements: ')) for i in range(int(input('Enter the number of elements: ')))]\n",
        "print(check(a))\n",
        "\n",
        "   "
      ],
      "execution_count": 6,
      "outputs": [
        {
          "output_type": "stream",
          "text": [
            "Enter the number of elements: 5\n",
            "Enter the elements: 6\n",
            "Enter the elements: 5\n",
            "Enter the elements: 3\n",
            "Enter the elements: 1\n",
            "Enter the elements: 8\n",
            "[(6, 'Greater than 5'), (5, 'Equal to 5'), (3, 'Less than 5'), (1, 'Less than 5'), (8, 'Greater than 5')]\n"
          ],
          "name": "stdout"
        }
      ]
    },
    {
      "cell_type": "code",
      "metadata": {
        "id": "KPJXJS1a6qMs",
        "colab_type": "code",
        "colab": {
          "base_uri": "https://localhost:8080/",
          "height": 121
        },
        "outputId": "4983e213-1ddc-4549-efe5-5b86102ef1a8"
      },
      "source": [
        "#Write a program in Python to produce Star triangle for any number n\n",
        "n=int(input('Enter the N value: '))\n",
        "a = 2*n - 2\n",
        "for i in range(0, n): \n",
        "    for j in range(0, a): \n",
        "      print(end=\" \") \n",
        "    a = a - 1 \n",
        "    for j in range(0, i+1): \n",
        "      print(\"* \", end=\"\") \n",
        "    print(\"\\r\") \n"
      ],
      "execution_count": 11,
      "outputs": [
        {
          "output_type": "stream",
          "text": [
            "Enter the N value: 5\n",
            "        * \n",
            "       * * \n",
            "      * * * \n",
            "     * * * * \n",
            "    * * * * * \n"
          ],
          "name": "stdout"
        }
      ]
    },
    {
      "cell_type": "code",
      "metadata": {
        "id": "qf2o1F4a7evM",
        "colab_type": "code",
        "colab": {
          "base_uri": "https://localhost:8080/",
          "height": 208
        },
        "outputId": "05d72891-a640-41e1-a235-9d245e0f9d45"
      },
      "source": [
        "#Write a program to produce Fibonacci series using generator in Python\n",
        "def fib(limit): \n",
        "    a, b = 0, 1\n",
        "    while a <= limit: \n",
        "        yield a \n",
        "        a, b = b, a + b  \n",
        "for i in fib(int(input('Enter the limit: '))):  \n",
        "    print(i) "
      ],
      "execution_count": 15,
      "outputs": [
        {
          "output_type": "stream",
          "text": [
            "Enter the limit: 40\n",
            "0\n",
            "1\n",
            "1\n",
            "2\n",
            "3\n",
            "5\n",
            "8\n",
            "13\n",
            "21\n",
            "34\n"
          ],
          "name": "stdout"
        }
      ]
    },
    {
      "cell_type": "code",
      "metadata": {
        "id": "n05vziqx9Hmt",
        "colab_type": "code",
        "colab": {
          "base_uri": "https://localhost:8080/",
          "height": 52
        },
        "outputId": "463b53ac-d2e3-44cd-f415-af0a7e173886"
      },
      "source": [
        "#Write a program to check a number and a string are palindrome or not without using looping statement.\n",
        "def pal(n):\n",
        "  if (len(n)==1):\n",
        "    return n[0]\n",
        "  else:\n",
        "    return n[-1]+pal(n[:-1])\n",
        "\n",
        "s=input('Enter the Number or String: ')\n",
        "if pal(s)==s:\n",
        "  print('Palindrome')\n",
        "else:\n",
        "  print(\"Not a palindrome\")"
      ],
      "execution_count": 21,
      "outputs": [
        {
          "output_type": "stream",
          "text": [
            "Enter the Number or String: malayalam\n",
            "Palindrome\n"
          ],
          "name": "stdout"
        }
      ]
    },
    {
      "cell_type": "code",
      "metadata": {
        "id": "EEUo0hm9--Wh",
        "colab_type": "code",
        "colab": {
          "base_uri": "https://localhost:8080/",
          "height": 139
        },
        "outputId": "441f7444-6b29-4135-dfdf-e5346e12b034"
      },
      "source": [
        "#Convert the following dictionary into two lists of country and medals. Again convert them into list of (country,medals) . Finally convert the list of tuples into dictionary again.\n",
        "golds = {\"Italy\": 12, \"USA\": 33, \"Brazil\": 15, \"China\": 27, \"Spain\": 19,\"Canada\": 22, \"Argentina\": 8, \"England\": 29}\n",
        "key=[]\n",
        "val=[]\n",
        "t=[]\n",
        "for k,v in golds.items():\n",
        "  key.append(k)\n",
        "  val.append(v)\n",
        "print(f'Seperate lists:\\n{key}\\n{val}')\n",
        "for i in range(len(key)):\n",
        "  t.append((key[i],val[i]))\n",
        "print(f'List of tuples:\\n{t}')\n",
        "print(f'Dict:\\n{dict(t)}')"
      ],
      "execution_count": 34,
      "outputs": [
        {
          "output_type": "stream",
          "text": [
            "Seperate lists:\n",
            "['Italy', 'USA', 'Brazil', 'China', 'Spain', 'Canada', 'Argentina', 'England']\n",
            "[12, 33, 15, 27, 19, 22, 8, 29]\n",
            "List of tuples:\n",
            "[('Italy', 12), ('USA', 33), ('Brazil', 15), ('China', 27), ('Spain', 19), ('Canada', 22), ('Argentina', 8), ('England', 29)]\n",
            "Dict:\n",
            "{'Italy': 12, 'USA': 33, 'Brazil': 15, 'China': 27, 'Spain': 19, 'Canada': 22, 'Argentina': 8, 'England': 29}\n"
          ],
          "name": "stdout"
        }
      ]
    },
    {
      "cell_type": "code",
      "metadata": {
        "id": "NVFpXw_fCFht",
        "colab_type": "code",
        "colab": {
          "base_uri": "https://localhost:8080/",
          "height": 106
        },
        "outputId": "ac6f483f-e3eb-4de2-c153-c713dfc272b6"
      },
      "source": [
        "import operator\n",
        "golds = {\"Italy\": 114, \"Germany\": 782, \"Pakistan\": 10, \"Sweden\": 6,\\\n",
        "\"USA\": 2681, \"Zimbabwe\": 8, \"Greece\": 111, \"Mongolia\": 24,\\\n",
        "\"Brazil\": 108, \"Croatia\": 34, \"Algeria\": 15,\\\n",
        "\"Switzerland\": 323, \"Yugoslavia\": 87, \"China\": 526,\\\n",
        "\"Egypt\": 26, \"Norway\": 477, \"Spain\": 133, \"Australia\": 48,\\\n",
        "\"Slovakia\": 29, \"Canada\": 22, \"New Zealand\": 100,\\\n",
        "\"Denmark\": 180, \"Chile\": 13, \"Argentina\": 70, \\\n",
        "\"Thailand\": 24, \"Cuba\": 209, \"Uganda\": 7, \"England\": 806,\\\n",
        "\"Denmark\": 180, \"Ukraine\": 122, \"Bahamas\": 12}\n",
        "l=sorted(golds.items(), key=operator.itemgetter(1), reverse=False)\n",
        "m=sorted(golds.items(), key=operator.itemgetter(1), reverse=True)\n",
        "n=sorted(golds.items(), key=operator.itemgetter(0), reverse=False)\n",
        "o=sorted(golds.items(), key=operator.itemgetter(1), reverse=True)\n",
        "print(dict(l))\n",
        "print(dict(m))\n",
        "print(dict(n))\n",
        "print(dict(o))"
      ],
      "execution_count": 36,
      "outputs": [
        {
          "output_type": "stream",
          "text": [
            "{'Sweden': 6, 'Uganda': 7, 'Zimbabwe': 8, 'Pakistan': 10, 'Bahamas': 12, 'Chile': 13, 'Algeria': 15, 'Canada': 22, 'Mongolia': 24, 'Thailand': 24, 'Egypt': 26, 'Slovakia': 29, 'Croatia': 34, 'Australia': 48, 'Argentina': 70, 'Yugoslavia': 87, 'New Zealand': 100, 'Brazil': 108, 'Greece': 111, 'Italy': 114, 'Ukraine': 122, 'Spain': 133, 'Denmark': 180, 'Cuba': 209, 'Switzerland': 323, 'Norway': 477, 'China': 526, 'Germany': 782, 'England': 806, 'USA': 2681}\n",
            "{'USA': 2681, 'England': 806, 'Germany': 782, 'China': 526, 'Norway': 477, 'Switzerland': 323, 'Cuba': 209, 'Denmark': 180, 'Spain': 133, 'Ukraine': 122, 'Italy': 114, 'Greece': 111, 'Brazil': 108, 'New Zealand': 100, 'Yugoslavia': 87, 'Argentina': 70, 'Australia': 48, 'Croatia': 34, 'Slovakia': 29, 'Egypt': 26, 'Mongolia': 24, 'Thailand': 24, 'Canada': 22, 'Algeria': 15, 'Chile': 13, 'Bahamas': 12, 'Pakistan': 10, 'Zimbabwe': 8, 'Uganda': 7, 'Sweden': 6}\n",
            "{'Algeria': 15, 'Argentina': 70, 'Australia': 48, 'Bahamas': 12, 'Brazil': 108, 'Canada': 22, 'Chile': 13, 'China': 526, 'Croatia': 34, 'Cuba': 209, 'Denmark': 180, 'Egypt': 26, 'England': 806, 'Germany': 782, 'Greece': 111, 'Italy': 114, 'Mongolia': 24, 'New Zealand': 100, 'Norway': 477, 'Pakistan': 10, 'Slovakia': 29, 'Spain': 133, 'Sweden': 6, 'Switzerland': 323, 'Thailand': 24, 'USA': 2681, 'Uganda': 7, 'Ukraine': 122, 'Yugoslavia': 87, 'Zimbabwe': 8}\n",
            "{'USA': 2681, 'England': 806, 'Germany': 782, 'China': 526, 'Norway': 477, 'Switzerland': 323, 'Cuba': 209, 'Denmark': 180, 'Spain': 133, 'Ukraine': 122, 'Italy': 114, 'Greece': 111, 'Brazil': 108, 'New Zealand': 100, 'Yugoslavia': 87, 'Argentina': 70, 'Australia': 48, 'Croatia': 34, 'Slovakia': 29, 'Egypt': 26, 'Mongolia': 24, 'Thailand': 24, 'Canada': 22, 'Algeria': 15, 'Chile': 13, 'Bahamas': 12, 'Pakistan': 10, 'Zimbabwe': 8, 'Uganda': 7, 'Sweden': 6}\n"
          ],
          "name": "stdout"
        }
      ]
    }
  ]
}