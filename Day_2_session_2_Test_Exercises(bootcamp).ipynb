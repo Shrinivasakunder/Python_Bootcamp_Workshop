{
  "nbformat": 4,
  "nbformat_minor": 0,
  "metadata": {
    "colab": {
      "name": " Day 2 session 2 Test Exercises(bootcamp).ipynb",
      "provenance": [],
      "collapsed_sections": [],
      "authorship_tag": "ABX9TyOpMfYyzgSTB/GS5xm91Bwv",
      "include_colab_link": true
    },
    "kernelspec": {
      "name": "python3",
      "display_name": "Python 3"
    }
  },
  "cells": [
    {
      "cell_type": "markdown",
      "metadata": {
        "id": "view-in-github",
        "colab_type": "text"
      },
      "source": [
        "<a href=\"https://colab.research.google.com/github/Shrinivasakunder/Python_Bootcamp_Workshop/blob/master/Day_2_session_2_Test_Exercises(bootcamp).ipynb\" target=\"_parent\"><img src=\"https://colab.research.google.com/assets/colab-badge.svg\" alt=\"Open In Colab\"/></a>"
      ]
    },
    {
      "cell_type": "code",
      "metadata": {
        "id": "mkZO1dseMrp1",
        "colab_type": "code",
        "colab": {
          "base_uri": "https://localhost:8080/",
          "height": 156
        },
        "outputId": "d3db7acd-c08e-4422-d5fd-3e7c81fe9279"
      },
      "source": [
        "#Add rollno and marks {name:mark} for n number of students through keyboard in a diction ary and print the marks in descending order with respective name. \n",
        "d={input(f\"Enter the name-{i}: \"):int(input(f'Enter the marks-{i}: ')) for i in range(1, int(input(f'Enter the number of students: '))+1)}\n",
        "import operator\n",
        "print(dict(sorted(d.items(), key=operator.itemgetter(1), reverse=True)))                                                                                                                                                                      "
      ],
      "execution_count": null,
      "outputs": [
        {
          "output_type": "stream",
          "text": [
            "Enter the number of students: 3\n",
            "Enter the marks-1: 96\n",
            "Enter the name-1: Suhas\n",
            "Enter the marks-2: 93\n",
            "Enter the name-2: Shri\n",
            "Enter the marks-3: 94\n",
            "Enter the name-3: Sai\n",
            "{'Suhas': 96, 'Sai': 94, 'Shri': 93}\n"
          ],
          "name": "stdout"
        }
      ]
    },
    {
      "cell_type": "code",
      "metadata": {
        "id": "s9jO7WyCg1G9",
        "colab_type": "code",
        "colab": {
          "base_uri": "https://localhost:8080/",
          "height": 156
        },
        "outputId": "5fcb3f9a-cbf3-4dfb-aa73-442b61ec839b"
      },
      "source": [
        "#Add name and salary {name:salary} for n number of employees through keyboard in a dic tionary and print them in name alphabetical order with salary \n",
        "d={input(f\"Enter the name-{i}: \"):int(input(f'Enter the Salary-{i}: ')) for i in range(1, int(input(f'Enter the number of employees: '))+1)}\n",
        "import operator\n",
        "print(dict(sorted(d.items(), key=operator.itemgetter(0), reverse=False)))                                                                                                                                                                      "
      ],
      "execution_count": null,
      "outputs": [
        {
          "output_type": "stream",
          "text": [
            "Enter the number of employees: 3\n",
            "Enter the Salary-1: 50000\n",
            "Enter the name-1: Suhas\n",
            "Enter the Salary-2: 60000\n",
            "Enter the name-2: Sai\n",
            "Enter the Salary-3: 40000\n",
            "Enter the name-3: Shri\n",
            "{'Sai': 60000, 'Shri': 40000, 'Suhas': 50000}\n"
          ],
          "name": "stdout"
        }
      ]
    },
    {
      "cell_type": "code",
      "metadata": {
        "id": "Y-MBTXSUhuQm",
        "colab_type": "code",
        "colab": {
          "base_uri": "https://localhost:8080/",
          "height": 225
        },
        "outputId": "0662a4ea-9e53-4046-f0c2-933367abf093"
      },
      "source": [
        "#Add name and salary {name:salary} for n number of employees through keyboard in a dic tionary and print them in salary ascending order and sum, max, min and average of the  salaries \n",
        "d={input(f\"Enter the name-{i}: \"):int(input(f'Enter the Salary-{i}: ')) for i in range(1, int(input(f'Enter the number of employees: '))+1)}\n",
        "import operator\n",
        "print(dict(sorted(d.items(), key=operator.itemgetter(1), reverse=False)))       \n",
        "print(f'Sum: {sum(d.values())}\\nMax: {max(d.values())}\\nMin: {min(d.values())}\\nAverage: {sum(d.values())/len(d)}')                                                                                                "
      ],
      "execution_count": null,
      "outputs": [
        {
          "output_type": "stream",
          "text": [
            "Enter the number of employees: 3\n",
            "Enter the Salary-1: 60000\n",
            "Enter the name-1: Suhas\n",
            "Enter the Salary-2: 40000\n",
            "Enter the name-2: Shri\n",
            "Enter the Salary-3: 50000\n",
            "Enter the name-3: Sai\n",
            "{'Shri': 40000, 'Sai': 50000, 'Suhas': 60000}\n",
            "Sum: 150000\n",
            "Max: 60000\n",
            "Min: 40000\n",
            "Average: 50000.0\n"
          ],
          "name": "stdout"
        }
      ]
    },
    {
      "cell_type": "code",
      "metadata": {
        "id": "mHpnnASVi2lZ",
        "colab_type": "code",
        "colab": {
          "base_uri": "https://localhost:8080/",
          "height": 225
        },
        "outputId": "ca6dee3b-ce14-4be3-a705-19a095505706"
      },
      "source": [
        "# Add name and salary {name:salary} for n number of employees through keyboard in a dic tionary and print only the employees whose salary is greater than 2000 but less than 4000 \n",
        "d={input(f\"Enter the name-{i}: \"):int(input(f'Enter the Salary-{i}: ')) for i in range(1, int(input(f'Enter the number of employees: '))+1)}\n",
        "l=[]\n",
        "for i,j in d.items():\n",
        "  if j>2000 and j<4000:\n",
        "    l.append((i,j))\n",
        "print(dict(l))"
      ],
      "execution_count": null,
      "outputs": [
        {
          "output_type": "stream",
          "text": [
            "Enter the number of employees: 5\n",
            "Enter the Salary-1: 3000\n",
            "Enter the name-1: Suhas\n",
            "Enter the Salary-2: 1000\n",
            "Enter the name-2: Surya\n",
            "Enter the Salary-3: 3500\n",
            "Enter the name-3: Shri\n",
            "Enter the Salary-4: 3800\n",
            "Enter the name-4: Sai\n",
            "Enter the Salary-5: 4000\n",
            "Enter the name-5: Nachi\n",
            "{'Suhas': 3000, 'Shri': 3500, 'Sai': 3800}\n"
          ],
          "name": "stdout"
        }
      ]
    },
    {
      "cell_type": "code",
      "metadata": {
        "id": "6OAW7zUlkeEk",
        "colab_type": "code",
        "colab": {
          "base_uri": "https://localhost:8080/",
          "height": 52
        },
        "outputId": "182b067a-8cfb-4935-cfee-a63030f810cf"
      },
      "source": [
        "#Python program to convert a 3 digit number into words \n",
        "d={0:'',1:'one',2:'two',3:'three',4:'four',5:'five',6:'six',7:'seven',8:'eight',9:'nine',  10:'ten',11:'eleven',12:'twelve',13:'thirteen',14:'fourteen',15:'fifteen',16:'sixteen',  17:'seventeen',18:'eightteen',19:'nineteen',20:'twenty',30:'thirty',40:'fourty',50:'fifty', 60:'sixty',70:'seventy',80:'eighty',90:'ninty',100:'One Hundred',200:'Two Hundred',300:'Three Hundred',400:'Four Hundred',500:'Five Hundred',600:'Six Hundred',700:'Seven Hundred',800:'Eight hundred',900:'Nine Hundred'} \n",
        "n=int(input(\"Enter the integer between 1 to 999:\")) \n",
        "if (n<=20): \n",
        " print(d[n]) \n",
        "elif (n<100):\n",
        "    print(d[n//10*10]+\" \"+d.get((n%10), ''))\n",
        "else:\n",
        "  if (n-(n//100)*100<=20):\n",
        "    print(f'{d[(n//100)*100]} {d[n-(n//100)*100]}')\n",
        "  else:\n",
        "    print(f'{d[(n//100)*100]} {d[((n//10)%10)*10]} {d[n%10]}')"
      ],
      "execution_count": null,
      "outputs": [
        {
          "output_type": "stream",
          "text": [
            "Enter the integer between 1 to 999:346\n",
            "Three Hundred fourty six\n"
          ],
          "name": "stdout"
        }
      ]
    },
    {
      "cell_type": "code",
      "metadata": {
        "id": "R5WKxWZroajO",
        "colab_type": "code",
        "colab": {
          "base_uri": "https://localhost:8080/",
          "height": 34
        },
        "outputId": "08a74170-b714-455b-b493-eb31cdbefb3d"
      },
      "source": [
        "#Python Program to count the total number of charaters (except blank space) in a text file. \n",
        "f=open('/t1.txt','r')\n",
        "c=0\n",
        "for l in f:\n",
        "  n=l.split()\n",
        "  for i in n:\n",
        "    for j in i:\n",
        "      if j!=' ':\n",
        "        c=c+1 \n",
        "print(c)"
      ],
      "execution_count": null,
      "outputs": [
        {
          "output_type": "stream",
          "text": [
            "40\n"
          ],
          "name": "stdout"
        }
      ]
    },
    {
      "cell_type": "code",
      "metadata": {
        "id": "Ta4p8saCs4lQ",
        "colab_type": "code",
        "colab": {
          "base_uri": "https://localhost:8080/",
          "height": 52
        },
        "outputId": "8c4fabc6-69d9-44de-af7d-190df7dabd37"
      },
      "source": [
        "#Python Program to print all the numbers present in a text file with its total number of occurrence. \n",
        "f=open('/t1.txt','r')\n",
        "li=[]\n",
        "a=[]\n",
        "for l in f:\n",
        "  li=l.split()\n",
        "  for w in li:\n",
        "    try:\n",
        "      x=int(w)\n",
        "      a.append(x)\n",
        "    except:\n",
        "      continue\n",
        "for i in a:\n",
        "  print(i,end=' ')\n",
        "print(f'\\nSum = {sum(a)}')\n"
      ],
      "execution_count": 11,
      "outputs": [
        {
          "output_type": "stream",
          "text": [
            "123 25 45 453 \n",
            "Sum = 646\n"
          ],
          "name": "stdout"
        }
      ]
    },
    {
      "cell_type": "code",
      "metadata": {
        "id": "D93vZlTqteW1",
        "colab_type": "code",
        "colab": {}
      },
      "source": [
        "#Python Program to append the contents of one file to another file by getting the both file names  through keyboard .  \n",
        "with open(\"/t1.txt\") as f: \n",
        " with open(\"/t2.txt\", \"a\") as f1: \n",
        "   for line in f: \n",
        "     f1.write(line) "
      ],
      "execution_count": 5,
      "outputs": []
    },
    {
      "cell_type": "code",
      "metadata": {
        "id": "ZerkvuH2uRm8",
        "colab_type": "code",
        "colab": {
          "base_uri": "https://localhost:8080/",
          "height": 34
        },
        "outputId": "9fa2aa05-479f-451a-90ad-e31566aa504d"
      },
      "source": [
        "#Python Program to count the number of blank spaces in a text file. \n",
        "f=open('/t1.txt','r')\n",
        "c=0\n",
        "for l in f:\n",
        "  n=str(l.rstrip())\n",
        "  for i in n:\n",
        "    if i==' ':\n",
        "      c=c+1 \n",
        "print(c)"
      ],
      "execution_count": 3,
      "outputs": [
        {
          "output_type": "stream",
          "text": [
            "2\n"
          ],
          "name": "stdout"
        }
      ]
    },
    {
      "cell_type": "code",
      "metadata": {
        "id": "qsS1-iFavqjo",
        "colab_type": "code",
        "colab": {
          "base_uri": "https://localhost:8080/",
          "height": 156
        },
        "outputId": "490d6026-de31-4b9d-88ed-eee166939694"
      },
      "source": [
        "#Python Program to read a file and capitalize the first letter of every word in the file and copy the  every word capitalized content into another file and read it .\n",
        "f=open('/t1.txt','r')\n",
        "a=open('t.txt','w')\n",
        "for l in f:\n",
        "  a.write(l.title())\n",
        "a.close()\n",
        "s=open('t.txt','r')\n",
        "for b in s:\n",
        "  print(b)"
      ],
      "execution_count": 7,
      "outputs": [
        {
          "output_type": "stream",
          "text": [
            "Ajskh\n",
            "\n",
            "Jkdhbjahu Hfgtyt\n",
            "\n",
            "Jaksbh Hhaa\n",
            "\n",
            "Jkhdsfbjhb\n",
            "\n"
          ],
          "name": "stdout"
        }
      ]
    }
  ]
}