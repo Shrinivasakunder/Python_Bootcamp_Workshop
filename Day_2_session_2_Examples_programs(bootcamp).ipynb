{
  "nbformat": 4,
  "nbformat_minor": 0,
  "metadata": {
    "colab": {
      "name": " Day 2 session 2 Examples programs(bootcamp).ipynb",
      "provenance": [],
      "collapsed_sections": [],
      "authorship_tag": "ABX9TyMwrnwcXdv5iZrw8dHQriHa",
      "include_colab_link": true
    },
    "kernelspec": {
      "name": "python3",
      "display_name": "Python 3"
    }
  },
  "cells": [
    {
      "cell_type": "markdown",
      "metadata": {
        "id": "view-in-github",
        "colab_type": "text"
      },
      "source": [
        "<a href=\"https://colab.research.google.com/github/Shrinivasakunder/Python_Bootcamp_Workshop/blob/master/Day_2_session_2_Examples_programs(bootcamp).ipynb\" target=\"_parent\"><img src=\"https://colab.research.google.com/assets/colab-badge.svg\" alt=\"Open In Colab\"/></a>"
      ]
    },
    {
      "cell_type": "code",
      "metadata": {
        "id": "MZEONForMg1M",
        "colab_type": "code",
        "colab": {
          "base_uri": "https://localhost:8080/",
          "height": 52
        },
        "outputId": "a2daac48-1d72-4a45-87b5-208a555d4475"
      },
      "source": [
        "d = {'Name': 'Zara', 'Age': 7}; \n",
        "print(f'Initial Dictionary: {d}') \n",
        "d.clear() \n",
        "print(f'Final Dictionary: {d}') \n"
      ],
      "execution_count": null,
      "outputs": [
        {
          "output_type": "stream",
          "text": [
            "Initial Dictionary: {'Name': 'Zara', 'Age': 7}\n",
            "Final Dictionary: {}\n"
          ],
          "name": "stdout"
        }
      ]
    },
    {
      "cell_type": "code",
      "metadata": {
        "id": "TTpaA3ccNTfs",
        "colab_type": "code",
        "colab": {
          "base_uri": "https://localhost:8080/",
          "height": 34
        },
        "outputId": "95872e0e-b8a2-459c-bd0a-a3f934651b5c"
      },
      "source": [
        "#Returns a list of dict's (key, value) tuple pairs \n",
        "dict = {'Name': 'Zara', 'Age': 7} \n",
        "print (f\"Value : {dict.items()}\" ) \n"
      ],
      "execution_count": null,
      "outputs": [
        {
          "output_type": "stream",
          "text": [
            "Value : dict_items([('Name', 'Zara'), ('Age', 7)])\n"
          ],
          "name": "stdout"
        }
      ]
    },
    {
      "cell_type": "code",
      "metadata": {
        "id": "YjZ7UUovNwGl",
        "colab_type": "code",
        "colab": {
          "base_uri": "https://localhost:8080/",
          "height": 34
        },
        "outputId": "f44c9261-495c-4ead-f3e2-d71b957509ee"
      },
      "source": [
        "#Returns a copy of dictionary dict \n",
        "dict1 = {'Name': 'Zara', 'Age': 7}; \n",
        "dict2 = dict1.copy() \n",
        "print (f'New Dictinary : {dict2}') \n",
        "\n"
      ],
      "execution_count": null,
      "outputs": [
        {
          "output_type": "stream",
          "text": [
            "New Dictinary : {'Name': 'Zara', 'Age': 7}\n"
          ],
          "name": "stdout"
        }
      ]
    },
    {
      "cell_type": "code",
      "metadata": {
        "id": "0nttYxkDOJaf",
        "colab_type": "code",
        "colab": {
          "base_uri": "https://localhost:8080/",
          "height": 52
        },
        "outputId": "27ac39d7-6dd9-42fc-88db-3fd5aec28909"
      },
      "source": [
        "#Python Program to Generate a Dictionary that Contains Numbers (between 1 and n) in the  Form (x,x*x).  \n",
        "d={x:x*x for x in range(1,int(input(\"Enter a number:\"))+1)} \n",
        "print(d)\n"
      ],
      "execution_count": null,
      "outputs": [
        {
          "output_type": "stream",
          "text": [
            "Enter a number:5\n",
            "{1: 1, 2: 4, 3: 9, 4: 16, 5: 25}\n"
          ],
          "name": "stdout"
        }
      ]
    },
    {
      "cell_type": "code",
      "metadata": {
        "id": "6ZP0H993OaDv",
        "colab_type": "code",
        "colab": {
          "base_uri": "https://localhost:8080/",
          "height": 34
        },
        "outputId": "65dbec62-be65-4ea8-f41b-b29f80686517"
      },
      "source": [
        "#Python Program to Sum All the Items in a Dictionary  \n",
        "d={'A':100,'B':540,'C':239} \n",
        "print(f\"Total sum of values in the dictionary: {sum(d.values())}\") \n"
      ],
      "execution_count": null,
      "outputs": [
        {
          "output_type": "stream",
          "text": [
            "Total sum of values in the dictionary: 879\n"
          ],
          "name": "stdout"
        }
      ]
    },
    {
      "cell_type": "code",
      "metadata": {
        "id": "qzhN2CR2OnrV",
        "colab_type": "code",
        "colab": {
          "base_uri": "https://localhost:8080/",
          "height": 69
        },
        "outputId": "ea6feca8-cf90-4fb9-aeb2-4c9c77666dab"
      },
      "source": [
        "#Python Program to Remove the Given Key from a Dictionary  \n",
        "d = {'a':1,'b':2,'c':3,'d':4} \n",
        "print(f\"Initial dictionary: {d}\") \n",
        "key=input(\"Enter the key to delete(a-d):\") \n",
        "if key in d:  \n",
        " del d[key] \n",
        "else: \n",
        " print(\"Key not found!\") \n",
        " exit(0) \n",
        "print(f\"Updated dictionary: {d}\")\n"
      ],
      "execution_count": null,
      "outputs": [
        {
          "output_type": "stream",
          "text": [
            "Initial dictionary: {'a': 1, 'b': 2, 'c': 3, 'd': 4}\n",
            "Enter the key to delete(a-d):c\n",
            "Updated dictionary: {'a': 1, 'b': 2, 'd': 4}\n"
          ],
          "name": "stdout"
        }
      ]
    },
    {
      "cell_type": "code",
      "metadata": {
        "id": "a923UwoVPG2G",
        "colab_type": "code",
        "colab": {
          "base_uri": "https://localhost:8080/",
          "height": 156
        },
        "outputId": "4f75da20-8eec-4c9c-d933-6aae704a2476"
      },
      "source": [
        "#ython Program to add name and mark as key->value pair in a Dictionary and print it. \n",
        "d={} \n",
        "for i in range(1,int(input(\"Enter no of records: \"))+1): \n",
        " name= input(f\"Enter name-{i}: \")\n",
        " d[name]=int(input(f\"Enter mark-{i}: \")) \n",
        "print (d) \n"
      ],
      "execution_count": null,
      "outputs": [
        {
          "output_type": "stream",
          "text": [
            "Enter no of records: 3\n",
            "Enter name-1: Suhas\n",
            "Enter mark-1: 95\n",
            "Enter name-2: Shri\n",
            "Enter mark-2: 94\n",
            "Enter name-3: Surya\n",
            "Enter mark-3: 96\n",
            "{'Suhas': 95, 'Shri': 94, 'Surya': 96}\n"
          ],
          "name": "stdout"
        }
      ]
    },
    {
      "cell_type": "code",
      "metadata": {
        "id": "sqYJnIctQN9A",
        "colab_type": "code",
        "colab": {
          "base_uri": "https://localhost:8080/",
          "height": 506
        },
        "outputId": "f310230b-cabf-4762-959a-7d6dd06047cf"
      },
      "source": [
        "# Keys and Values example \n",
        "d={} \n",
        "d={i:i*i for i in range(1,21)}\n",
        "print(f'The dictionary elements are\" {d}') \n",
        "print(\"Key==> Value\") \n",
        "for (k,v) in d.items(): \n",
        " print(k,\"==>\",v) \n",
        "print(\"\\nTo print key only\") \n",
        "for k in d.keys(): \n",
        " print(k, end=\" \") \n",
        "print (\"\\nTo print values only\") \n",
        "for v in d.values(): \n",
        " print(v, end=\" \") \n"
      ],
      "execution_count": null,
      "outputs": [
        {
          "output_type": "stream",
          "text": [
            "The dictionary elements are\" {1: 1, 2: 4, 3: 9, 4: 16, 5: 25, 6: 36, 7: 49, 8: 64, 9: 81, 10: 100, 11: 121, 12: 144, 13: 169, 14: 196, 15: 225, 16: 256, 17: 289, 18: 324, 19: 361, 20: 400}\n",
            "Key==> Value\n",
            "1 ==> 1\n",
            "2 ==> 4\n",
            "3 ==> 9\n",
            "4 ==> 16\n",
            "5 ==> 25\n",
            "6 ==> 36\n",
            "7 ==> 49\n",
            "8 ==> 64\n",
            "9 ==> 81\n",
            "10 ==> 100\n",
            "11 ==> 121\n",
            "12 ==> 144\n",
            "13 ==> 169\n",
            "14 ==> 196\n",
            "15 ==> 225\n",
            "16 ==> 256\n",
            "17 ==> 289\n",
            "18 ==> 324\n",
            "19 ==> 361\n",
            "20 ==> 400\n",
            "\n",
            "To print key only\n",
            "1 2 3 4 5 6 7 8 9 10 11 12 13 14 15 16 17 18 19 20 \n",
            "To print values only\n",
            "1 4 9 16 25 36 49 64 81 100 121 144 169 196 225 256 289 324 361 400 "
          ],
          "name": "stdout"
        }
      ]
    },
    {
      "cell_type": "code",
      "metadata": {
        "id": "PbnfBjXsSSXL",
        "colab_type": "code",
        "colab": {
          "base_uri": "https://localhost:8080/",
          "height": 52
        },
        "outputId": "b967e862-838f-4012-be57-a49e5bc8519d"
      },
      "source": [
        "#Python program to convert 2 digit number into words \n",
        "d={0:'',1:'one',2:'two',3:'three',4:'four',5:'five',6:'six',7:'seven',8:'eight',9:'nine',  10:'ten',11:'eleven',12:'twelve',13:'thirteen',14:'fourteen',15:'fifteen',16:'sixteen',  17:'seventeen',18:'eightteen',19:'nineteen',20:'twenty',30:'thirty',40:'fourty',50:'fifty', 60:'sixty',70:'seventy',80:'eighty',90:'ninty'} \n",
        "num=int(input(\"Enter the integer between 1 to 99:\")) \n",
        "if (num<=20): \n",
        " print(d[num]) \n",
        "else:\n",
        "    print(d[num//10*10]+\" \"+d.get((num%10), ''))\n"
      ],
      "execution_count": null,
      "outputs": [
        {
          "output_type": "stream",
          "text": [
            "Enter the integer between 1 to 99:52\n",
            "fifty two\n"
          ],
          "name": "stdout"
        }
      ]
    },
    {
      "cell_type": "code",
      "metadata": {
        "id": "k46ddSJIW_lx",
        "colab_type": "code",
        "colab": {
          "base_uri": "https://localhost:8080/",
          "height": 52
        },
        "outputId": "f9313a1d-ba62-4c2e-b043-b50677f79d24"
      },
      "source": [
        "#How to sort a dictionary by values in Python \n",
        "d = {\"Pierre\": 42, \"Anne\": 33, \"Zoe\": 24}\n",
        "#Use the sorted function and operator module \n",
        "import operator \n",
        "sorted_d = sorted(d.items(), key=operator.itemgetter(1)) \n",
        "print(sorted_d) \n",
        "sorted_a= sorted(d.items(), key=operator.itemgetter(1),reverse=True) \n",
        "print(sorted_a) \n"
      ],
      "execution_count": null,
      "outputs": [
        {
          "output_type": "stream",
          "text": [
            "[('Zoe', 24), ('Anne', 33), ('Pierre', 42)]\n",
            "[('Pierre', 42), ('Anne', 33), ('Zoe', 24)]\n"
          ],
          "name": "stdout"
        }
      ]
    },
    {
      "cell_type": "code",
      "metadata": {
        "id": "PE7KBy_bXV-s",
        "colab_type": "code",
        "colab": {
          "base_uri": "https://localhost:8080/",
          "height": 69
        },
        "outputId": "52441a07-9f6c-424b-dc22-0c1b08870304"
      },
      "source": [
        "#Python Program to count the number of lines in a text file.  \n",
        "fname = input(\"Enter file name: \") \n",
        "num_lines = 0 \n",
        "with open(fname, 'r') as f: \n",
        " for line in f: \n",
        "   num_lines += 1 \n",
        "print(\"Number of lines:\") \n",
        "print(num_lines) \n"
      ],
      "execution_count": null,
      "outputs": [
        {
          "output_type": "stream",
          "text": [
            "Enter file name: /t1.txt\n",
            "Number of lines:\n",
            "4\n"
          ],
          "name": "stdout"
        }
      ]
    },
    {
      "cell_type": "code",
      "metadata": {
        "id": "Yi-_y4hjpXc8",
        "colab_type": "code",
        "colab": {
          "base_uri": "https://localhost:8080/",
          "height": 69
        },
        "outputId": "cf87c445-c695-43b7-d34a-4b72dd132102"
      },
      "source": [
        "#Python Program to count the number of words in a text file.  \n",
        "fname = input(\"Enter file name: \") \n",
        "num_words = 0 \n",
        "with open(fname, 'r') as f: \n",
        " for line in f: \n",
        "   words = line.split() \n",
        "   num_words += len(words) \n",
        "print(\"Number of words:\") \n",
        "print(num_words)\n"
      ],
      "execution_count": null,
      "outputs": [
        {
          "output_type": "stream",
          "text": [
            "Enter file name: /t1.txt\n",
            "Number of words:\n",
            "4\n"
          ],
          "name": "stdout"
        }
      ]
    },
    {
      "cell_type": "code",
      "metadata": {
        "id": "8IB_hVmcpku1",
        "colab_type": "code",
        "colab": {
          "base_uri": "https://localhost:8080/",
          "height": 86
        },
        "outputId": "4a90c688-6c76-4402-e209-28e9b99bfd70"
      },
      "source": [
        "#Python Program to count the occurrences of a word in a text file. \n",
        "fname = input(\"Enter file name: \") \n",
        "word=input(\"Enter word to be searched:\") \n",
        "k = 0 \n",
        "with open(fname, 'r') as f: \n",
        " for line in f: \n",
        "   words = line.split() \n",
        "   for i in words: \n",
        "     if(i==word): \n",
        "       k=k+1 \n",
        "print(\"Occurrences of the word:\") \n",
        "print(k) \n"
      ],
      "execution_count": null,
      "outputs": [
        {
          "output_type": "stream",
          "text": [
            "Enter file name: /t1.txt\n",
            "Enter word to be searched:JAKSBH\n",
            "Occurrences of the word:\n",
            "1\n"
          ],
          "name": "stdout"
        }
      ]
    },
    {
      "cell_type": "code",
      "metadata": {
        "id": "P8mlMkeTqAdW",
        "colab_type": "code",
        "colab": {}
      },
      "source": [
        "#Python Program to copy the contents of one file into another.  \n",
        "with open(\"/t1.txt\") as f: \n",
        " with open(\"out.txt\", \"w\") as f1: \n",
        "   for line in f: \n",
        "     f1.write(line) \n"
      ],
      "execution_count": null,
      "outputs": []
    },
    {
      "cell_type": "code",
      "metadata": {
        "id": "p8Ff4mEZqafb",
        "colab_type": "code",
        "colab": {
          "base_uri": "https://localhost:8080/",
          "height": 104
        },
        "outputId": "a1c09da1-dd54-46b1-a7cb-dd0f376b4b9d"
      },
      "source": [
        "#Python Program to read the contents of the file in reverse order. \n",
        "filename=input(\"Enter file name: \") \n",
        "with open (filename,'r') as f: \n",
        " for line in f: \n",
        "   l=line.split() \n",
        "   l.reverse()  \n",
        "   st= \" \".join(l) \n",
        "   print (st) \n"
      ],
      "execution_count": null,
      "outputs": [
        {
          "output_type": "stream",
          "text": [
            "Enter file name: /t1.txt\n",
            "AJSKh\n",
            "hfgtyt JKDHBJAHu\n",
            "hhaa JAKSBH\n",
            "JKHDSFBJHB\n"
          ],
          "name": "stdout"
        }
      ]
    }
  ]
}