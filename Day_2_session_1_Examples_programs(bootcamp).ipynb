{
  "nbformat": 4,
  "nbformat_minor": 0,
  "metadata": {
    "colab": {
      "name": "Day 2  session 1 Examples programs(bootcamp).ipynb",
      "provenance": [],
      "collapsed_sections": [],
      "authorship_tag": "ABX9TyM3uS000vgUXQ9eODO+1SCC",
      "include_colab_link": true
    },
    "kernelspec": {
      "name": "python3",
      "display_name": "Python 3"
    }
  },
  "cells": [
    {
      "cell_type": "markdown",
      "metadata": {
        "id": "view-in-github",
        "colab_type": "text"
      },
      "source": [
        "<a href=\"https://colab.research.google.com/github/Shrinivasakunder/Python_Bootcamp_Workshop/blob/master/Day_2_session_1_Examples_programs(bootcamp).ipynb\" target=\"_parent\"><img src=\"https://colab.research.google.com/assets/colab-badge.svg\" alt=\"Open In Colab\"/></a>"
      ]
    },
    {
      "cell_type": "code",
      "metadata": {
        "id": "Ytra6OyyPbHh",
        "colab_type": "code",
        "colab": {
          "base_uri": "https://localhost:8080/",
          "height": 139
        },
        "outputId": "2db015b1-def6-466d-aaff-165ba3b3729a"
      },
      "source": [
        "#Program to find the largest number in a list. \n",
        "a=[] \n",
        "n=int(input(\"Enter number of elements:\")) \n",
        "for i in range(n): \n",
        " a.append(input(\"Enter element:\"))\n",
        "print(\"Largest element is:\",max(a)) \n"
      ],
      "execution_count": 1,
      "outputs": [
        {
          "output_type": "stream",
          "text": [
            "Enter number of elements:5\n",
            "Enter element:61\n",
            "Enter element:36\n",
            "Enter element:64\n",
            "Enter element:46\n",
            "Enter element:52\n",
            "Largest element is: 64\n"
          ],
          "name": "stdout"
        }
      ]
    },
    {
      "cell_type": "code",
      "metadata": {
        "id": "vi3vRpukQ8BI",
        "colab_type": "code",
        "colab": {
          "base_uri": "https://localhost:8080/",
          "height": 173
        },
        "outputId": "e76f4311-87d6-45e8-aa6c-d2e6dc04fc66"
      },
      "source": [
        "#Python Program to put the even and odd elements in a list into two different lists.  \n",
        "a=[] \n",
        "b=[]\n",
        "n=int(input(\"Enter number of elements:\")) \n",
        "for i in range(n):\n",
        "  c=int(input(\"Enter element:\")) \n",
        "  if (c%2==0):\n",
        "    a.append(c)\n",
        "  else:\n",
        "    b.append(c) \n",
        "print(f'The even list is: {a}\\nThe odd list is: {b}')\n",
        "\n"
      ],
      "execution_count": 4,
      "outputs": [
        {
          "output_type": "stream",
          "text": [
            "Enter number of elements:6\n",
            "Enter element:5\n",
            "Enter element:4\n",
            "Enter element:3\n",
            "Enter element:2\n",
            "Enter element:1\n",
            "Enter element:6\n",
            "The even list is: [4, 2, 6]\n",
            "The odd list is: [5, 3, 1]\n"
          ],
          "name": "stdout"
        }
      ]
    },
    {
      "cell_type": "code",
      "metadata": {
        "id": "FU-0rMsPVG_t",
        "colab_type": "code",
        "colab": {
          "base_uri": "https://localhost:8080/",
          "height": 156
        },
        "outputId": "218fd365-ceda-4b70-dfdc-1c8a049c089a"
      },
      "source": [
        "#Python Program to merge two lists and sort it. \n",
        "a=[] \n",
        "b=[] \n",
        "n1=int(input(\"Enter number of elements:\")) \n",
        "a=[int(input(\"Enter element:\")) for i in range(n1)]\n",
        "n2=int(input(\"Enter number of elements:\")) \n",
        "b=[int(input(\"Enter element:\")) for j in range(n2)] \n",
        "n = a+b\n",
        "n.sort()\n",
        "print(n)\n"
      ],
      "execution_count": 18,
      "outputs": [
        {
          "output_type": "stream",
          "text": [
            "Enter number of elements:3\n",
            "Enter element:2\n",
            "Enter element:1\n",
            "Enter element:3\n",
            "Enter number of elements:2\n",
            "Enter element:5\n",
            "Enter element:4\n",
            "[1, 2, 3, 4, 5]\n"
          ],
          "name": "stdout"
        }
      ]
    },
    {
      "cell_type": "code",
      "metadata": {
        "id": "_fAIGqk4WZH5",
        "colab_type": "code",
        "colab": {
          "base_uri": "https://localhost:8080/",
          "height": 34
        },
        "outputId": "03940ae9-50bc-4eda-d70f-44e08175858f"
      },
      "source": [
        "#Python Program to sort the list according to the second element in the sublist.\n",
        "import operator \n",
        "a=[['A',34],['B',21],['C',26],['E',29]] \n",
        "l=sorted(a, key=operator.itemgetter(1), reverse=False)\n",
        "print(l)"
      ],
      "execution_count": 20,
      "outputs": [
        {
          "output_type": "stream",
          "text": [
            "[['B', 21], ['C', 26], ['E', 29], ['A', 34]]\n"
          ],
          "name": "stdout"
        }
      ]
    },
    {
      "cell_type": "code",
      "metadata": {
        "id": "Ycxn6MN2h07a",
        "colab_type": "code",
        "colab": {
          "base_uri": "https://localhost:8080/",
          "height": 139
        },
        "outputId": "6e538c4b-84a0-43ab-d9cf-7c777799a684"
      },
      "source": [
        "#Python Program to find the second largest number in a list using bubble sort.  \n",
        "a=[] \n",
        "n=int(input(\"Enter number of elements:\")) \n",
        "a=[int(input(\"Enter element:\")) for i in range(n)]\n",
        "for i in range(n): \n",
        " for j in range(0,n-i-1): \n",
        "   if (a[j]>a[j+1]): \n",
        "     temp=a[j] \n",
        "     a[j]=a[j+1] \n",
        "     a[j+1]=temp  \n",
        "print('Second largest number is:',a[n-2]) \n"
      ],
      "execution_count": 23,
      "outputs": [
        {
          "output_type": "stream",
          "text": [
            "Enter number of elements:5\n",
            "Enter element:5\n",
            "Enter element:2\n",
            "Enter element:8\n",
            "Enter element:1\n",
            "Enter element:7\n",
            "Second largest number is: 7\n"
          ],
          "name": "stdout"
        }
      ]
    },
    {
      "cell_type": "code",
      "metadata": {
        "id": "LRt09tAxiwXv",
        "colab_type": "code",
        "colab": {
          "base_uri": "https://localhost:8080/",
          "height": 69
        },
        "outputId": "6eb302be-0632-42da-a6a5-76643a4308be"
      },
      "source": [
        "#Program to create a list of tuples with the first element as the number and the second  element as the square of the number.  \n",
        "a=[(x,x**2) for x in range(int(input(\"Enter the lower range:\")) ,int(input(\"Enter the upper range:\")))] \n",
        "print(a) \n"
      ],
      "execution_count": 24,
      "outputs": [
        {
          "output_type": "stream",
          "text": [
            "Enter the lower range:1\n",
            "Enter the upper range:5\n",
            "[(1, 1), (2, 4), (3, 9), (4, 16)]\n"
          ],
          "name": "stdout"
        }
      ]
    },
    {
      "cell_type": "code",
      "metadata": {
        "id": "oPZfq2NajILP",
        "colab_type": "code",
        "colab": {
          "base_uri": "https://localhost:8080/",
          "height": 52
        },
        "outputId": "47dee45a-27d9-4d8e-f6e9-b41ce788078e"
      },
      "source": [
        "#Python Program to generate random numbers from 1 to 20 and append them to the list. \n",
        "import random \n",
        "a=[]\n",
        "a=[random.randint(1,20) for j in range(int(input(\"Enter number of elements:\")))]\n",
        "print('Randomised list is: ',a)\n"
      ],
      "execution_count": 25,
      "outputs": [
        {
          "output_type": "stream",
          "text": [
            "Enter number of elements:10\n",
            "Randomised list is:  [18, 16, 8, 1, 12, 1, 14, 18, 2, 2]\n"
          ],
          "name": "stdout"
        }
      ]
    },
    {
      "cell_type": "code",
      "metadata": {
        "id": "cV_4tdPqqv6d",
        "colab_type": "code",
        "colab": {
          "base_uri": "https://localhost:8080/",
          "height": 34
        },
        "outputId": "2d107f79-c07d-4972-c589-54b0f731fbc5"
      },
      "source": [
        "#Write python program to have a list of words to sort them from longest to shortest using list  of tuples \n",
        "txt = 'but soft what light in yonder window breaks' \n",
        "words = txt.split() \n",
        "t = list() \n",
        "for word in words: \n",
        " t.append((len(word), word)) \n",
        "t.sort(reverse=True) \n",
        "res = list() \n",
        "for length, word in t: \n",
        " res.append(word) \n",
        "print(res) \n"
      ],
      "execution_count": 26,
      "outputs": [
        {
          "output_type": "stream",
          "text": [
            "['yonder', 'window', 'breaks', 'light', 'what', 'soft', 'but', 'in']\n"
          ],
          "name": "stdout"
        }
      ]
    },
    {
      "cell_type": "code",
      "metadata": {
        "id": "h7S-xRpzq1lZ",
        "colab_type": "code",
        "colab": {
          "base_uri": "https://localhost:8080/",
          "height": 52
        },
        "outputId": "d6cb70c5-a332-4d72-f31c-efffd3a22baa"
      },
      "source": [
        "#Python program that assigns variables \n",
        "# Create packed tuple. \n",
        "pair = (\"dog\", \"cat\") \n",
        "# Unpack tuple. \n",
        "(key, value) = pair\n",
        "# Display unpacked variables. \n",
        "print(key) \n",
        "print(value)\n"
      ],
      "execution_count": 27,
      "outputs": [
        {
          "output_type": "stream",
          "text": [
            "dog\n",
            "cat\n"
          ],
          "name": "stdout"
        }
      ]
    },
    {
      "cell_type": "code",
      "metadata": {
        "id": "w5MmPOQzrA4W",
        "colab_type": "code",
        "colab": {
          "base_uri": "https://localhost:8080/",
          "height": 52
        },
        "outputId": "5866d651-66a9-4883-f9f2-5d37fa87618b"
      },
      "source": [
        "#Python program that searches tuples \n",
        "pair = (\"dog\", \"cat\") \n",
        "# Search for a value. \n",
        "if \"cat\" in pair: \n",
        " print(\"Cat found\") \n",
        "# Search for a value not present. \n",
        "if \"bird\" not in pair: \n",
        " print(\"Bird not found\") \n"
      ],
      "execution_count": 28,
      "outputs": [
        {
          "output_type": "stream",
          "text": [
            "Cat found\n",
            "Bird not found\n"
          ],
          "name": "stdout"
        }
      ]
    }
  ]
}