{
  "nbformat": 4,
  "nbformat_minor": 0,
  "metadata": {
    "colab": {
      "name": "Day 1 session 2 Test Exercises(bootcamp).ipynb",
      "provenance": [],
      "collapsed_sections": [],
      "authorship_tag": "ABX9TyNC+xBv6qBId0m8Udzzblyk",
      "include_colab_link": true
    },
    "kernelspec": {
      "name": "python3",
      "display_name": "Python 3"
    }
  },
  "cells": [
    {
      "cell_type": "markdown",
      "metadata": {
        "id": "view-in-github",
        "colab_type": "text"
      },
      "source": [
        "<a href=\"https://colab.research.google.com/github/Shrinivasakunder/Python_Bootcamp_Workshop/blob/master/Day_1_session_2_Test_Exercises(bootcamp).ipynb\" target=\"_parent\"><img src=\"https://colab.research.google.com/assets/colab-badge.svg\" alt=\"Open In Colab\"/></a>"
      ]
    },
    {
      "cell_type": "markdown",
      "metadata": {
        "id": "tYuQSxnGQP_7",
        "colab_type": "text"
      },
      "source": [
        "#Write a program to print the triangle "
      ]
    },
    {
      "cell_type": "code",
      "metadata": {
        "id": "rWS7VRvsNdVh",
        "colab_type": "code",
        "colab": {
          "base_uri": "https://localhost:8080/",
          "height": 104
        },
        "outputId": "6b478c74-f1e8-4436-d815-97bb1381c98f"
      },
      "source": [
        "\n",
        "n = int(input('Enter The number: '))\n",
        "c=1\n",
        "for i in range(n):\n",
        "  for j in range(i,i+c):\n",
        "    print(j+1,end=\" \")\n",
        "  c=c+1\n",
        "  print('')"
      ],
      "execution_count": null,
      "outputs": [
        {
          "output_type": "stream",
          "text": [
            "Enter The number: 4\n",
            "1 \n",
            "2 3 \n",
            "3 4 5 \n",
            "4 5 6 7 \n"
          ],
          "name": "stdout"
        }
      ]
    },
    {
      "cell_type": "code",
      "metadata": {
        "id": "lkiRjUQ1P8V2",
        "colab_type": "code",
        "colab": {
          "base_uri": "https://localhost:8080/",
          "height": 104
        },
        "outputId": "b761de3d-a131-4d8f-bb15-10ae2bb60382"
      },
      "source": [
        "n = int(input(\"Enter The Number: \"))\n",
        "for i in range(n):\n",
        "  print('* '*(i+1))"
      ],
      "execution_count": null,
      "outputs": [
        {
          "output_type": "stream",
          "text": [
            "Enter The Number: 4\n",
            "* \n",
            "* * \n",
            "* * * \n",
            "* * * * \n"
          ],
          "name": "stdout"
        }
      ]
    },
    {
      "cell_type": "code",
      "metadata": {
        "id": "HDtFP9LbQUeW",
        "colab_type": "code",
        "colab": {
          "base_uri": "https://localhost:8080/",
          "height": 121
        },
        "outputId": "d8f9d67d-2a97-4526-9966-b5aa5bca7d0f"
      },
      "source": [
        "n = int(input(\"Enter The Number: \"))\n",
        "c=n\n",
        "for i in range(n):\n",
        "  for j in range(i+1):\n",
        "    print(c,end=' ')\n",
        "    c=c+1\n",
        "  c=c-(i+2)\n",
        "  print(\"\")\n",
        "\n"
      ],
      "execution_count": null,
      "outputs": [
        {
          "output_type": "stream",
          "text": [
            "Enter The Number: 5\n",
            "5 \n",
            "4 5 \n",
            "3 4 5 \n",
            "2 3 4 5 \n",
            "1 2 3 4 5 \n"
          ],
          "name": "stdout"
        }
      ]
    },
    {
      "cell_type": "code",
      "metadata": {
        "id": "I7B3XPsOR8gJ",
        "colab_type": "code",
        "colab": {
          "base_uri": "https://localhost:8080/",
          "height": 121
        },
        "outputId": "5959b863-f76c-4c86-f223-f5565c43d1f9"
      },
      "source": [
        "n = int(input(\"Enter The Number: \"))\n",
        "for i in range(n,0,-1):\n",
        "  for j in range(i,0,-1):\n",
        "    print(j,end=' ')\n",
        "  print('')\n",
        "\n"
      ],
      "execution_count": null,
      "outputs": [
        {
          "output_type": "stream",
          "text": [
            "Enter The Number: 5\n",
            "5 4 3 2 1 \n",
            "4 3 2 1 \n",
            "3 2 1 \n",
            "2 1 \n",
            "1 \n"
          ],
          "name": "stdout"
        }
      ]
    },
    {
      "cell_type": "code",
      "metadata": {
        "id": "w-AoqGsmS4Ug",
        "colab_type": "code",
        "colab": {
          "base_uri": "https://localhost:8080/",
          "height": 156
        },
        "outputId": "8a384b99-0497-48fd-b67d-300cfe224fa4"
      },
      "source": [
        "n = int(input(\"Enter The Number: \"))\n",
        "a=0\n",
        "for i in range(n,1,-1):\n",
        "  for j in range(1,i+1):\n",
        "    print(j+a,end=' ')\n",
        "  a=a+1\n",
        "  print('')\n",
        "c=n\n",
        "for i in range(n):\n",
        "  for j in range(i+1):\n",
        "    print(c,end=' ')\n",
        "    c=c+1\n",
        "  c=c-(i+2)\n",
        "  print(\"\")"
      ],
      "execution_count": null,
      "outputs": [
        {
          "output_type": "stream",
          "text": [
            "Enter The Number: 4\n",
            "1 2 3 4 \n",
            "2 3 4 \n",
            "3 4 \n",
            "4 \n",
            "3 4 \n",
            "2 3 4 \n",
            "1 2 3 4 \n"
          ],
          "name": "stdout"
        }
      ]
    },
    {
      "cell_type": "code",
      "metadata": {
        "id": "jfrfrrD1Trmr",
        "colab_type": "code",
        "colab": {
          "base_uri": "https://localhost:8080/",
          "height": 52
        },
        "outputId": "472f7da7-d57a-4961-b306-85ec73222c47"
      },
      "source": [
        "s = input('Enter The String: ')\n",
        "c=0\n",
        "for i in s:\n",
        "  c=c+1\n",
        "print(f'The Length Of String iS: {c}')"
      ],
      "execution_count": null,
      "outputs": [
        {
          "output_type": "stream",
          "text": [
            "Enter The String: Alvas\n",
            "The Length Of String iS: 5\n"
          ],
          "name": "stdout"
        }
      ]
    },
    {
      "cell_type": "code",
      "metadata": {
        "id": "YnIE-EiXT87r",
        "colab_type": "code",
        "colab": {
          "base_uri": "https://localhost:8080/",
          "height": 69
        },
        "outputId": "ac48184b-cbca-4448-e752-1a8809a99fa8"
      },
      "source": [
        "s = input('Enter The String: ')\n",
        "c=0\n",
        "for i in s:\n",
        "  if i!=' ':\n",
        "    c=c+1\n",
        "print(f'The Number Of Words in a String are: {len(s.split())}\\nNumber Of Characters in a string are: {c}')\n"
      ],
      "execution_count": null,
      "outputs": [
        {
          "output_type": "stream",
          "text": [
            "Enter The String: Shrinivas kunder\n",
            "The Number Of Words in a String are: 2\n",
            "Number Of Characters in a string are: 15\n"
          ],
          "name": "stdout"
        }
      ]
    },
    {
      "cell_type": "code",
      "metadata": {
        "id": "bfEf3eKpVi1I",
        "colab_type": "code",
        "colab": {
          "base_uri": "https://localhost:8080/",
          "height": 86
        },
        "outputId": "337c0232-3435-46c9-e99a-aa8a83efb361"
      },
      "source": [
        "s = input('Enter The String: ')\n",
        "d=dict()\n",
        "l = s.split()\n",
        "for i in l:\n",
        "  d[i]=d.get(i, 0)+1\n",
        "for k,v in d.items():\n",
        "  print(f'{k} : {v} Times')"
      ],
      "execution_count": null,
      "outputs": [
        {
          "output_type": "stream",
          "text": [
            "Enter The String: Alvas Institute Alvas Mijar Mijar\n",
            "Alvas : 2 Times\n",
            "Institute : 1 Times\n",
            "Mijar : 2 Times\n"
          ],
          "name": "stdout"
        }
      ]
    }
  ]
}